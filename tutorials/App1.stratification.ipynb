{
 "cells": [
  {
   "cell_type": "code",
   "execution_count": 6,
   "id": "c121c9e9-f16e-4ea7-bd82-687be1d47f25",
   "metadata": {},
   "outputs": [
    {
     "name": "stderr",
     "output_type": "stream",
     "text": [
      "/data/hongqy/dev/ukbGPT/tutorials/../scgpt/model/model.py:21: UserWarning: flash_attn is not installed\n",
      "  warnings.warn(\"flash_attn is not installed\")\n",
      "/data/hongqy/dev/ukbGPT/tutorials/../scgpt/model/multiomic_model.py:19: UserWarning: flash_attn is not installed\n",
      "  warnings.warn(\"flash_attn is not installed\")\n"
     ]
    }
   ],
   "source": [
    "from pathlib import Path\n",
    "import sys\n",
    "sys.path.insert(0, \"../\")\n",
    "from ukbfound.tokenizer.traitg_tokenizer import ValueVocab\n",
    "from ukbfound.model import TransformerModel\n",
    "import pandas as pd\n",
    "import json\n",
    "import ukbfound\n",
    "logger = ukbfound.logger\n",
    "import torch\n",
    "import numpy as np\n",
    "from torch import nn\n"
   ]
  },
  {
   "cell_type": "code",
   "execution_count": 7,
   "id": "4de089ef-d5c4-4900-a9a3-6043fa9e5fd0",
   "metadata": {},
   "outputs": [],
   "source": [
    "data_dir = Path(\"../data/UKB\")\n",
    "data_df = pd.read_csv(data_dir / \"output_data.csv\", index_col=0)\n"
   ]
  },
  {
   "cell_type": "markdown",
   "id": "dbbe6d7f-8b1a-4785-838a-3d6fdd821de4",
   "metadata": {},
   "source": [
    "# ---\n",
    "# 查找影响copd分亚型的关键 Traits"
   ]
  },
  {
   "cell_type": "code",
   "execution_count": 21,
   "id": "0d8a64f3-a0c8-4130-9766-a90dea484195",
   "metadata": {},
   "outputs": [
    {
     "name": "stderr",
     "output_type": "stream",
     "text": [
      "/tmp/ipykernel_744495/1961232502.py:29: DtypeWarning: Columns (6,21,38) have mixed types. Specify dtype option on import or set low_memory=False.\n",
      "  traits_df = pd.read_csv(data_dir / 'ukb_traits.csv', encoding='latin1', quotechar='\"')\n"
     ]
    },
    {
     "name": "stdout",
     "output_type": "stream",
     "text": [
      "scGPT - INFO - train set number of samples: 1665, \n",
      "\t feature length: 2874\n"
     ]
    }
   ],
   "source": [
    "# 查找影响copd分亚型的关键 Traits\n",
    "\n",
    "from anndata import AnnData\n",
    "import scanpy as sc\n",
    "from scanpy.get import _get_obs_rep, _set_obs_rep\n",
    "import shutil\n",
    "from scipy.sparse import issparse\n",
    "from sklearn.model_selection import train_test_split\n",
    "from ukbfound.tokenizer import tokenize_and_pad_batch, random_mask_value\n",
    "from torch.utils.data import Dataset, DataLoader\n",
    "from typing import List, Tuple, Dict, Union, Optional\n",
    "import os\n",
    "\n",
    "#model_dir = Path(\"save/all_data_dev_UKB-Jul11-17-11\")\n",
    "# 加载模型和词库\n",
    "#model_dir = Path(\"save/dev_UKB-Aug20-22-27\") #dev_UKB-Aug07-18-18 只提取20002，随机15%20002疾病 mask训练；  dev_UKB-Aug08-21-38 随机15%20002疾病 mask训练；  dev_UKB-Aug11-22-41 随机5%mask训练； dev_UKB-Aug20-22-27\n",
    "model_dir = Path(\"save/dev_UKB-Sep10-00-11\") \n",
    "model_config_file = model_dir / \"config.json\"\n",
    "model_file = model_dir / \"model.pt\"\n",
    "vocab_file = model_dir / \"vocab.json\"\n",
    "\n",
    "pad_token = \"<pad>\"\n",
    "mask_token = \"<mask>\"\n",
    "cls_token = \"<cls>\"\n",
    "vocab = ValueVocab.from_file(vocab_file)\n",
    "\n",
    "\n",
    "\n",
    "traits_df = pd.read_csv(data_dir / 'ukb_traits.csv', encoding='latin1', quotechar='\"')\n",
    "# 创建一个字典，其中 token_id 是键，token_id 是值\n",
    "token_dict = dict(zip(traits_df['token_id'], traits_df['token_id']))\n",
    "#  vacab need start with 0 index\n",
    "token_dict['<cls>'] = 0  # 和其他模式统一， 用0\n",
    "token_dict['<mask>'] = len(token_dict)\n",
    "token_dict['<pad>'] = len(token_dict)\n",
    "\n",
    "# 将values字典保存成 JSON 文件\n",
    "with open(data_dir / \"vocab.json\", 'w') as f:\n",
    "    json.dump(token_dict, f, indent=4)\n",
    "\n",
    "vocab_file = data_dir / \"vocab.json\"\n",
    "vocab = ValueVocab.from_file(vocab_file)\n",
    "shutil.copy(vocab_file, \"values_vocab.json\")\n",
    "vocab.set_default_index(vocab[\"<pad>\"])\n",
    "# change adata value to combine 'col_value' style\n",
    "data_df_copd = data_df_copd.fillna(vocab[\"<pad>\"])\n",
    "adata = sc.AnnData(data_df_copd.values)\n",
    "\n",
    "traitg_dict = {v:i for i, v in  enumerate(traits_df['trait'].unique(), 1)}\n",
    "\n",
    "value2traitg_dict = {}\n",
    "for value_id in traits_df['token_id']:\n",
    "    value2traitg_dict[value_id] = traitg_dict[traits_df.loc[traits_df['token_id'] == value_id, 'trait'].iat[0]]\n",
    "value2traitg_dict.update({token_dict['<cls>']:0})\n",
    "value2traitg_dict.update({token_dict['<mask>']:max(value2traitg_dict.values())+1})\n",
    "value2traitg_dict.update({token_dict['<pad>']:max(value2traitg_dict.values())+1})\n",
    "# 创建一个向量化的函数，用于字典查找\n",
    "vectorized_replace = np.vectorize(value2traitg_dict.get)\n",
    "\n",
    "# 获取特殊字符value\n",
    "mask_value = vocab[mask_token]\n",
    "pad_value = vocab[pad_token]\n",
    "cls_value = vocab[cls_token]\n",
    "\n",
    "# 使用该函数对 all_counts 进行替换，并覆盖原数组\n",
    "trait_ids = vectorized_replace(adata.X)\n",
    "\n",
    "\n",
    "input_layer_key = None\n",
    "\n",
    "individualtypes_labels = data_df_copd.index\n",
    "\n",
    "train_data = adata.X\n",
    "\n",
    "max_seq_len = 3000\n",
    "mask_ratio = 0.15\n",
    "tokenized_train = tokenize_and_pad_batch(\n",
    "    train_data,\n",
    "    trait_ids,\n",
    "    max_len=max_seq_len,\n",
    "    vocab=vocab,\n",
    "    pad_token=pad_token,\n",
    "    pad_value=pad_value,\n",
    "    append_cls=False,  # append <cls> token at the beginning\n",
    "    include_zero_trait=True,\n",
    ")\n",
    "\n",
    "logger.info(\n",
    "    f\"train set number of samples: {tokenized_train['traits'].shape[0]}, \"\n",
    "    f\"\\n\\t feature length: {tokenized_train['traits'].shape[1]}\"\n",
    ")\n",
    "\n",
    "\n",
    "input_trait_ids_train = tokenized_train[\"traits\"]\n",
    "target_values_train = tokenized_train[\"values\"]\n",
    "\n",
    "\n",
    "\n"
   ]
  },
  {
   "cell_type": "code",
   "execution_count": 1244,
   "id": "a922b541-b14d-4ff4-8139-2bff807d1486",
   "metadata": {
    "scrolled": true
   },
   "outputs": [
    {
     "name": "stdout",
     "output_type": "stream",
     "text": [
      "trait c1002_t120_i2_v21_s1_e100258\n",
      "last_trait= c1003_t20002-1112_i2_v22_s2_e6\n",
      "scGPT - INFO - Resume model from save/dev_UKB-Aug20-22-27/model.pt, the model args will override the config save/dev_UKB-Aug20-22-27/config.json.\n",
      "scGPT - INFO - Loading all model params from save/dev_UKB-Aug20-22-27/model.pt\n"
     ]
    },
    {
     "name": "stderr",
     "output_type": "stream",
     "text": [
      "/data/hongqy/dev/ukbGPT/tutorials/../scgpt/model/model.py:76: UserWarning: flash-attn is not installed, using pytorch transformer instead. Set use_fast_transformer=False to avoid this warning. Installing flash-attn is highly recommended.\n",
      "  warnings.warn(\n"
     ]
    },
    {
     "name": "stdout",
     "output_type": "stream",
     "text": [
      "1.0\n",
      "find useless trait= c1002_t120_i2_v21_s1_e100258\n",
      "trait c1003_t135_i2_v11_s1_e0\n",
      "last_trait= c1003_t20002-1112_i2_v22_s2_e6\n",
      "scGPT - INFO - Resume model from save/dev_UKB-Aug20-22-27/model.pt, the model args will override the config save/dev_UKB-Aug20-22-27/config.json.\n",
      "scGPT - INFO - Loading all model params from save/dev_UKB-Aug20-22-27/model.pt\n"
     ]
    },
    {
     "name": "stderr",
     "output_type": "stream",
     "text": [
      "/data/hongqy/dev/ukbGPT/tutorials/../scgpt/model/model.py:76: UserWarning: flash-attn is not installed, using pytorch transformer instead. Set use_fast_transformer=False to avoid this warning. Installing flash-attn is highly recommended.\n",
      "  warnings.warn(\n"
     ]
    },
    {
     "name": "stdout",
     "output_type": "stream",
     "text": [
      "0.0\n",
      "trait c1003_t20001-1004_i2_v22_s2_e3\n",
      "last_trait= c1003_t20002-1112_i2_v22_s2_e6\n",
      "scGPT - INFO - Resume model from save/dev_UKB-Aug20-22-27/model.pt, the model args will override the config save/dev_UKB-Aug20-22-27/config.json.\n",
      "scGPT - INFO - Loading all model params from save/dev_UKB-Aug20-22-27/model.pt\n"
     ]
    },
    {
     "name": "stderr",
     "output_type": "stream",
     "text": [
      "/data/hongqy/dev/ukbGPT/tutorials/../scgpt/model/model.py:76: UserWarning: flash-attn is not installed, using pytorch transformer instead. Set use_fast_transformer=False to avoid this warning. Installing flash-attn is highly recommended.\n",
      "  warnings.warn(\n"
     ]
    },
    {
     "name": "stdout",
     "output_type": "stream",
     "text": [
      "1.0\n",
      "find useless trait= c1003_t20001-1004_i2_v22_s2_e3\n",
      "trait c1003_t20001-1050_i2_v22_s2_e3\n",
      "last_trait= c1003_t20002-1112_i2_v22_s2_e6\n",
      "scGPT - INFO - Resume model from save/dev_UKB-Aug20-22-27/model.pt, the model args will override the config save/dev_UKB-Aug20-22-27/config.json.\n",
      "scGPT - INFO - Loading all model params from save/dev_UKB-Aug20-22-27/model.pt\n"
     ]
    },
    {
     "name": "stderr",
     "output_type": "stream",
     "text": [
      "/data/hongqy/dev/ukbGPT/tutorials/../scgpt/model/model.py:76: UserWarning: flash-attn is not installed, using pytorch transformer instead. Set use_fast_transformer=False to avoid this warning. Installing flash-attn is highly recommended.\n",
      "  warnings.warn(\n"
     ]
    },
    {
     "name": "stdout",
     "output_type": "stream",
     "text": [
      "1.0\n",
      "find useless trait= c1003_t20001-1050_i2_v22_s2_e3\n",
      "trait c1003_t20001-1052_i2_v22_s2_e3\n",
      "last_trait= c1003_t20002-1112_i2_v22_s2_e6\n",
      "scGPT - INFO - Resume model from save/dev_UKB-Aug20-22-27/model.pt, the model args will override the config save/dev_UKB-Aug20-22-27/config.json.\n",
      "scGPT - INFO - Loading all model params from save/dev_UKB-Aug20-22-27/model.pt\n"
     ]
    },
    {
     "name": "stderr",
     "output_type": "stream",
     "text": [
      "/data/hongqy/dev/ukbGPT/tutorials/../scgpt/model/model.py:76: UserWarning: flash-attn is not installed, using pytorch transformer instead. Set use_fast_transformer=False to avoid this warning. Installing flash-attn is highly recommended.\n",
      "  warnings.warn(\n"
     ]
    },
    {
     "name": "stdout",
     "output_type": "stream",
     "text": [
      "1.0\n",
      "find useless trait= c1003_t20001-1052_i2_v22_s2_e3\n",
      "trait c1003_t20001-1062_i2_v22_s2_e3\n",
      "last_trait= c1003_t20002-1112_i2_v22_s2_e6\n",
      "scGPT - INFO - Resume model from save/dev_UKB-Aug20-22-27/model.pt, the model args will override the config save/dev_UKB-Aug20-22-27/config.json.\n",
      "scGPT - INFO - Loading all model params from save/dev_UKB-Aug20-22-27/model.pt\n"
     ]
    },
    {
     "name": "stderr",
     "output_type": "stream",
     "text": [
      "/data/hongqy/dev/ukbGPT/tutorials/../scgpt/model/model.py:76: UserWarning: flash-attn is not installed, using pytorch transformer instead. Set use_fast_transformer=False to avoid this warning. Installing flash-attn is highly recommended.\n",
      "  warnings.warn(\n"
     ]
    },
    {
     "name": "stdout",
     "output_type": "stream",
     "text": [
      "1.0\n",
      "find useless trait= c1003_t20001-1062_i2_v22_s2_e3\n",
      "trait c1003_t20001-1063_i2_v22_s2_e3\n",
      "last_trait= c1003_t20002-1112_i2_v22_s2_e6\n",
      "scGPT - INFO - Resume model from save/dev_UKB-Aug20-22-27/model.pt, the model args will override the config save/dev_UKB-Aug20-22-27/config.json.\n",
      "scGPT - INFO - Loading all model params from save/dev_UKB-Aug20-22-27/model.pt\n"
     ]
    },
    {
     "name": "stderr",
     "output_type": "stream",
     "text": [
      "/data/hongqy/dev/ukbGPT/tutorials/../scgpt/model/model.py:76: UserWarning: flash-attn is not installed, using pytorch transformer instead. Set use_fast_transformer=False to avoid this warning. Installing flash-attn is highly recommended.\n",
      "  warnings.warn(\n"
     ]
    },
    {
     "name": "stdout",
     "output_type": "stream",
     "text": [
      "1.0\n",
      "find useless trait= c1003_t20001-1063_i2_v22_s2_e3\n",
      "trait c1003_t20001-1073_i2_v22_s2_e3\n",
      "last_trait= c1003_t20002-1112_i2_v22_s2_e6\n",
      "scGPT - INFO - Resume model from save/dev_UKB-Aug20-22-27/model.pt, the model args will override the config save/dev_UKB-Aug20-22-27/config.json.\n",
      "scGPT - INFO - Loading all model params from save/dev_UKB-Aug20-22-27/model.pt\n"
     ]
    },
    {
     "name": "stderr",
     "output_type": "stream",
     "text": [
      "/data/hongqy/dev/ukbGPT/tutorials/../scgpt/model/model.py:76: UserWarning: flash-attn is not installed, using pytorch transformer instead. Set use_fast_transformer=False to avoid this warning. Installing flash-attn is highly recommended.\n",
      "  warnings.warn(\n"
     ]
    },
    {
     "name": "stdout",
     "output_type": "stream",
     "text": [
      "1.0\n",
      "find useless trait= c1003_t20001-1073_i2_v22_s2_e3\n",
      "trait c1003_t20001-1080_i2_v22_s2_e3\n",
      "last_trait= c1003_t20002-1112_i2_v22_s2_e6\n",
      "scGPT - INFO - Resume model from save/dev_UKB-Aug20-22-27/model.pt, the model args will override the config save/dev_UKB-Aug20-22-27/config.json.\n",
      "scGPT - INFO - Loading all model params from save/dev_UKB-Aug20-22-27/model.pt\n"
     ]
    },
    {
     "name": "stderr",
     "output_type": "stream",
     "text": [
      "/data/hongqy/dev/ukbGPT/tutorials/../scgpt/model/model.py:76: UserWarning: flash-attn is not installed, using pytorch transformer instead. Set use_fast_transformer=False to avoid this warning. Installing flash-attn is highly recommended.\n",
      "  warnings.warn(\n"
     ]
    },
    {
     "name": "stdout",
     "output_type": "stream",
     "text": [
      "1.0\n",
      "find useless trait= c1003_t20001-1080_i2_v22_s2_e3\n",
      "trait c1003_t20001-1081_i2_v22_s2_e3\n",
      "last_trait= c1003_t20002-1112_i2_v22_s2_e6\n",
      "scGPT - INFO - Resume model from save/dev_UKB-Aug20-22-27/model.pt, the model args will override the config save/dev_UKB-Aug20-22-27/config.json.\n",
      "scGPT - INFO - Loading all model params from save/dev_UKB-Aug20-22-27/model.pt\n"
     ]
    },
    {
     "name": "stderr",
     "output_type": "stream",
     "text": [
      "/data/hongqy/dev/ukbGPT/tutorials/../scgpt/model/model.py:76: UserWarning: flash-attn is not installed, using pytorch transformer instead. Set use_fast_transformer=False to avoid this warning. Installing flash-attn is highly recommended.\n",
      "  warnings.warn(\n"
     ]
    },
    {
     "name": "stdout",
     "output_type": "stream",
     "text": [
      "1.0\n",
      "find useless trait= c1003_t20001-1081_i2_v22_s2_e3\n",
      "trait c1003_t20002-1078_i2_v22_s2_e6\n",
      "last_trait= c1003_t20002-1112_i2_v22_s2_e6\n",
      "scGPT - INFO - Resume model from save/dev_UKB-Aug20-22-27/model.pt, the model args will override the config save/dev_UKB-Aug20-22-27/config.json.\n",
      "scGPT - INFO - Loading all model params from save/dev_UKB-Aug20-22-27/model.pt\n"
     ]
    },
    {
     "name": "stderr",
     "output_type": "stream",
     "text": [
      "/data/hongqy/dev/ukbGPT/tutorials/../scgpt/model/model.py:76: UserWarning: flash-attn is not installed, using pytorch transformer instead. Set use_fast_transformer=False to avoid this warning. Installing flash-attn is highly recommended.\n",
      "  warnings.warn(\n"
     ]
    },
    {
     "name": "stdout",
     "output_type": "stream",
     "text": [
      "1.0\n",
      "find useless trait= c1003_t20002-1078_i2_v22_s2_e6\n",
      "trait c1003_t20002-1237_i2_v22_s2_e6\n",
      "last_trait= c1003_t20002-1112_i2_v22_s2_e6\n",
      "scGPT - INFO - Resume model from save/dev_UKB-Aug20-22-27/model.pt, the model args will override the config save/dev_UKB-Aug20-22-27/config.json.\n",
      "scGPT - INFO - Loading all model params from save/dev_UKB-Aug20-22-27/model.pt\n"
     ]
    },
    {
     "name": "stderr",
     "output_type": "stream",
     "text": [
      "/data/hongqy/dev/ukbGPT/tutorials/../scgpt/model/model.py:76: UserWarning: flash-attn is not installed, using pytorch transformer instead. Set use_fast_transformer=False to avoid this warning. Installing flash-attn is highly recommended.\n",
      "  warnings.warn(\n"
     ]
    },
    {
     "name": "stdout",
     "output_type": "stream",
     "text": [
      "1.0\n",
      "find useless trait= c1003_t20002-1237_i2_v22_s2_e6\n",
      "trait c1003_t20002-1239_i2_v22_s2_e6\n",
      "last_trait= c1003_t20002-1112_i2_v22_s2_e6\n",
      "scGPT - INFO - Resume model from save/dev_UKB-Aug20-22-27/model.pt, the model args will override the config save/dev_UKB-Aug20-22-27/config.json.\n",
      "scGPT - INFO - Loading all model params from save/dev_UKB-Aug20-22-27/model.pt\n"
     ]
    },
    {
     "name": "stderr",
     "output_type": "stream",
     "text": [
      "/data/hongqy/dev/ukbGPT/tutorials/../scgpt/model/model.py:76: UserWarning: flash-attn is not installed, using pytorch transformer instead. Set use_fast_transformer=False to avoid this warning. Installing flash-attn is highly recommended.\n",
      "  warnings.warn(\n"
     ]
    },
    {
     "name": "stdout",
     "output_type": "stream",
     "text": [
      "1.0\n",
      "find useless trait= c1003_t20002-1239_i2_v22_s2_e6\n",
      "trait c1003_t20002-1259_i2_v22_s2_e6\n",
      "last_trait= c1003_t20002-1112_i2_v22_s2_e6\n",
      "scGPT - INFO - Resume model from save/dev_UKB-Aug20-22-27/model.pt, the model args will override the config save/dev_UKB-Aug20-22-27/config.json.\n",
      "scGPT - INFO - Loading all model params from save/dev_UKB-Aug20-22-27/model.pt\n"
     ]
    },
    {
     "name": "stderr",
     "output_type": "stream",
     "text": [
      "/data/hongqy/dev/ukbGPT/tutorials/../scgpt/model/model.py:76: UserWarning: flash-attn is not installed, using pytorch transformer instead. Set use_fast_transformer=False to avoid this warning. Installing flash-attn is highly recommended.\n",
      "  warnings.warn(\n"
     ]
    },
    {
     "name": "stdout",
     "output_type": "stream",
     "text": [
      "1.0\n",
      "find useless trait= c1003_t20002-1259_i2_v22_s2_e6\n",
      "trait c1003_t20002-1353_i2_v22_s2_e6\n",
      "last_trait= c1003_t20002-1112_i2_v22_s2_e6\n",
      "scGPT - INFO - Resume model from save/dev_UKB-Aug20-22-27/model.pt, the model args will override the config save/dev_UKB-Aug20-22-27/config.json.\n",
      "scGPT - INFO - Loading all model params from save/dev_UKB-Aug20-22-27/model.pt\n"
     ]
    },
    {
     "name": "stderr",
     "output_type": "stream",
     "text": [
      "/data/hongqy/dev/ukbGPT/tutorials/../scgpt/model/model.py:76: UserWarning: flash-attn is not installed, using pytorch transformer instead. Set use_fast_transformer=False to avoid this warning. Installing flash-attn is highly recommended.\n",
      "  warnings.warn(\n"
     ]
    },
    {
     "name": "stdout",
     "output_type": "stream",
     "text": [
      "1.0\n",
      "find useless trait= c1003_t20002-1353_i2_v22_s2_e6\n",
      "trait c1003_t20002-1442_i2_v22_s2_e6\n",
      "last_trait= c1003_t20002-1112_i2_v22_s2_e6\n",
      "scGPT - INFO - Resume model from save/dev_UKB-Aug20-22-27/model.pt, the model args will override the config save/dev_UKB-Aug20-22-27/config.json.\n",
      "scGPT - INFO - Loading all model params from save/dev_UKB-Aug20-22-27/model.pt\n"
     ]
    },
    {
     "name": "stderr",
     "output_type": "stream",
     "text": [
      "/data/hongqy/dev/ukbGPT/tutorials/../scgpt/model/model.py:76: UserWarning: flash-attn is not installed, using pytorch transformer instead. Set use_fast_transformer=False to avoid this warning. Installing flash-attn is highly recommended.\n",
      "  warnings.warn(\n"
     ]
    },
    {
     "name": "stdout",
     "output_type": "stream",
     "text": [
      "1.0\n",
      "find useless trait= c1003_t20002-1442_i2_v22_s2_e6\n",
      "trait c1003_t20002-1453_i2_v22_s2_e6\n",
      "last_trait= c1003_t20002-1112_i2_v22_s2_e6\n",
      "scGPT - INFO - Resume model from save/dev_UKB-Aug20-22-27/model.pt, the model args will override the config save/dev_UKB-Aug20-22-27/config.json.\n",
      "scGPT - INFO - Loading all model params from save/dev_UKB-Aug20-22-27/model.pt\n"
     ]
    },
    {
     "name": "stderr",
     "output_type": "stream",
     "text": [
      "/data/hongqy/dev/ukbGPT/tutorials/../scgpt/model/model.py:76: UserWarning: flash-attn is not installed, using pytorch transformer instead. Set use_fast_transformer=False to avoid this warning. Installing flash-attn is highly recommended.\n",
      "  warnings.warn(\n"
     ]
    },
    {
     "name": "stdout",
     "output_type": "stream",
     "text": [
      "1.0\n",
      "find useless trait= c1003_t20002-1453_i2_v22_s2_e6\n",
      "trait c1003_t20002-1459_i2_v22_s2_e6\n",
      "last_trait= c1003_t20002-1112_i2_v22_s2_e6\n",
      "scGPT - INFO - Resume model from save/dev_UKB-Aug20-22-27/model.pt, the model args will override the config save/dev_UKB-Aug20-22-27/config.json.\n",
      "scGPT - INFO - Loading all model params from save/dev_UKB-Aug20-22-27/model.pt\n"
     ]
    },
    {
     "name": "stderr",
     "output_type": "stream",
     "text": [
      "/data/hongqy/dev/ukbGPT/tutorials/../scgpt/model/model.py:76: UserWarning: flash-attn is not installed, using pytorch transformer instead. Set use_fast_transformer=False to avoid this warning. Installing flash-attn is highly recommended.\n",
      "  warnings.warn(\n"
     ]
    },
    {
     "name": "stdout",
     "output_type": "stream",
     "text": [
      "1.0\n",
      "find useless trait= c1003_t20002-1459_i2_v22_s2_e6\n",
      "trait c1003_t20002-1464_i2_v22_s2_e6\n",
      "last_trait= c1003_t20002-1112_i2_v22_s2_e6\n",
      "scGPT - INFO - Resume model from save/dev_UKB-Aug20-22-27/model.pt, the model args will override the config save/dev_UKB-Aug20-22-27/config.json.\n",
      "scGPT - INFO - Loading all model params from save/dev_UKB-Aug20-22-27/model.pt\n"
     ]
    },
    {
     "name": "stderr",
     "output_type": "stream",
     "text": [
      "/data/hongqy/dev/ukbGPT/tutorials/../scgpt/model/model.py:76: UserWarning: flash-attn is not installed, using pytorch transformer instead. Set use_fast_transformer=False to avoid this warning. Installing flash-attn is highly recommended.\n",
      "  warnings.warn(\n"
     ]
    },
    {
     "name": "stdout",
     "output_type": "stream",
     "text": [
      "1.0\n",
      "find useless trait= c1003_t20002-1464_i2_v22_s2_e6\n",
      "trait c1003_t20002-1465_i2_v22_s2_e6\n",
      "last_trait= c1003_t20002-1112_i2_v22_s2_e6\n",
      "scGPT - INFO - Resume model from save/dev_UKB-Aug20-22-27/model.pt, the model args will override the config save/dev_UKB-Aug20-22-27/config.json.\n",
      "scGPT - INFO - Loading all model params from save/dev_UKB-Aug20-22-27/model.pt\n"
     ]
    },
    {
     "name": "stderr",
     "output_type": "stream",
     "text": [
      "/data/hongqy/dev/ukbGPT/tutorials/../scgpt/model/model.py:76: UserWarning: flash-attn is not installed, using pytorch transformer instead. Set use_fast_transformer=False to avoid this warning. Installing flash-attn is highly recommended.\n",
      "  warnings.warn(\n"
     ]
    },
    {
     "name": "stdout",
     "output_type": "stream",
     "text": [
      "1.0\n",
      "find useless trait= c1003_t20002-1465_i2_v22_s2_e6\n",
      "trait c1003_t20002-1577_i2_v22_s2_e6\n",
      "last_trait= c1003_t20002-1112_i2_v22_s2_e6\n",
      "scGPT - INFO - Resume model from save/dev_UKB-Aug20-22-27/model.pt, the model args will override the config save/dev_UKB-Aug20-22-27/config.json.\n",
      "scGPT - INFO - Loading all model params from save/dev_UKB-Aug20-22-27/model.pt\n"
     ]
    },
    {
     "name": "stderr",
     "output_type": "stream",
     "text": [
      "/data/hongqy/dev/ukbGPT/tutorials/../scgpt/model/model.py:76: UserWarning: flash-attn is not installed, using pytorch transformer instead. Set use_fast_transformer=False to avoid this warning. Installing flash-attn is highly recommended.\n",
      "  warnings.warn(\n"
     ]
    },
    {
     "name": "stdout",
     "output_type": "stream",
     "text": [
      "1.0\n",
      "find useless trait= c1003_t20002-1577_i2_v22_s2_e6\n",
      "trait c1003_t20002-1587_i2_v22_s2_e6\n",
      "last_trait= c1003_t20002-1112_i2_v22_s2_e6\n",
      "scGPT - INFO - Resume model from save/dev_UKB-Aug20-22-27/model.pt, the model args will override the config save/dev_UKB-Aug20-22-27/config.json.\n",
      "scGPT - INFO - Loading all model params from save/dev_UKB-Aug20-22-27/model.pt\n"
     ]
    },
    {
     "name": "stderr",
     "output_type": "stream",
     "text": [
      "/data/hongqy/dev/ukbGPT/tutorials/../scgpt/model/model.py:76: UserWarning: flash-attn is not installed, using pytorch transformer instead. Set use_fast_transformer=False to avoid this warning. Installing flash-attn is highly recommended.\n",
      "  warnings.warn(\n"
     ]
    },
    {
     "name": "stdout",
     "output_type": "stream",
     "text": [
      "1.0\n",
      "find useless trait= c1003_t20002-1587_i2_v22_s2_e6\n",
      "trait c1003_t20002-1608_i2_v22_s2_e6\n",
      "last_trait= c1003_t20002-1112_i2_v22_s2_e6\n",
      "scGPT - INFO - Resume model from save/dev_UKB-Aug20-22-27/model.pt, the model args will override the config save/dev_UKB-Aug20-22-27/config.json.\n",
      "scGPT - INFO - Loading all model params from save/dev_UKB-Aug20-22-27/model.pt\n"
     ]
    },
    {
     "name": "stderr",
     "output_type": "stream",
     "text": [
      "/data/hongqy/dev/ukbGPT/tutorials/../scgpt/model/model.py:76: UserWarning: flash-attn is not installed, using pytorch transformer instead. Set use_fast_transformer=False to avoid this warning. Installing flash-attn is highly recommended.\n",
      "  warnings.warn(\n"
     ]
    },
    {
     "name": "stdout",
     "output_type": "stream",
     "text": [
      "1.0\n",
      "find useless trait= c1003_t20002-1608_i2_v22_s2_e6\n",
      "trait c1003_t20002-1636_i2_v22_s2_e6\n",
      "last_trait= c1003_t20002-1112_i2_v22_s2_e6\n",
      "scGPT - INFO - Resume model from save/dev_UKB-Aug20-22-27/model.pt, the model args will override the config save/dev_UKB-Aug20-22-27/config.json.\n",
      "scGPT - INFO - Loading all model params from save/dev_UKB-Aug20-22-27/model.pt\n"
     ]
    },
    {
     "name": "stderr",
     "output_type": "stream",
     "text": [
      "/data/hongqy/dev/ukbGPT/tutorials/../scgpt/model/model.py:76: UserWarning: flash-attn is not installed, using pytorch transformer instead. Set use_fast_transformer=False to avoid this warning. Installing flash-attn is highly recommended.\n",
      "  warnings.warn(\n"
     ]
    },
    {
     "name": "stdout",
     "output_type": "stream",
     "text": [
      "1.0\n",
      "find useless trait= c1003_t20002-1636_i2_v22_s2_e6\n",
      "trait c1003_t20002-1646_i2_v22_s2_e6\n",
      "last_trait= c1003_t20002-1112_i2_v22_s2_e6\n",
      "scGPT - INFO - Resume model from save/dev_UKB-Aug20-22-27/model.pt, the model args will override the config save/dev_UKB-Aug20-22-27/config.json.\n",
      "scGPT - INFO - Loading all model params from save/dev_UKB-Aug20-22-27/model.pt\n"
     ]
    },
    {
     "name": "stderr",
     "output_type": "stream",
     "text": [
      "/data/hongqy/dev/ukbGPT/tutorials/../scgpt/model/model.py:76: UserWarning: flash-attn is not installed, using pytorch transformer instead. Set use_fast_transformer=False to avoid this warning. Installing flash-attn is highly recommended.\n",
      "  warnings.warn(\n"
     ]
    },
    {
     "name": "stdout",
     "output_type": "stream",
     "text": [
      "1.0\n",
      "find useless trait= c1003_t20002-1646_i2_v22_s2_e6\n",
      "trait c1003_t20003_i2_v22_s1_e4\n",
      "last_trait= c1003_t20002-1112_i2_v22_s2_e6\n",
      "scGPT - INFO - Resume model from save/dev_UKB-Aug20-22-27/model.pt, the model args will override the config save/dev_UKB-Aug20-22-27/config.json.\n",
      "scGPT - INFO - Loading all model params from save/dev_UKB-Aug20-22-27/model.pt\n"
     ]
    },
    {
     "name": "stderr",
     "output_type": "stream",
     "text": [
      "/data/hongqy/dev/ukbGPT/tutorials/../scgpt/model/model.py:76: UserWarning: flash-attn is not installed, using pytorch transformer instead. Set use_fast_transformer=False to avoid this warning. Installing flash-attn is highly recommended.\n",
      "  warnings.warn(\n"
     ]
    },
    {
     "name": "stdout",
     "output_type": "stream",
     "text": [
      "0.0\n",
      "trait c1003_t20004_i2_v22_s2_e5\n",
      "last_trait= c1003_t20002-1112_i2_v22_s2_e6\n",
      "scGPT - INFO - Resume model from save/dev_UKB-Aug20-22-27/model.pt, the model args will override the config save/dev_UKB-Aug20-22-27/config.json.\n",
      "scGPT - INFO - Loading all model params from save/dev_UKB-Aug20-22-27/model.pt\n"
     ]
    },
    {
     "name": "stderr",
     "output_type": "stream",
     "text": [
      "/data/hongqy/dev/ukbGPT/tutorials/../scgpt/model/model.py:76: UserWarning: flash-attn is not installed, using pytorch transformer instead. Set use_fast_transformer=False to avoid this warning. Installing flash-attn is highly recommended.\n",
      "  warnings.warn(\n"
     ]
    },
    {
     "name": "stdout",
     "output_type": "stream",
     "text": [
      "1.0\n",
      "find useless trait= c1003_t20004_i2_v22_s2_e5\n",
      "trait c1003_t20008_i2_v31_s1_e13\n",
      "last_trait= c1003_t20002-1112_i2_v22_s2_e6\n",
      "scGPT - INFO - Resume model from save/dev_UKB-Aug20-22-27/model.pt, the model args will override the config save/dev_UKB-Aug20-22-27/config.json.\n",
      "scGPT - INFO - Loading all model params from save/dev_UKB-Aug20-22-27/model.pt\n"
     ]
    },
    {
     "name": "stderr",
     "output_type": "stream",
     "text": [
      "/data/hongqy/dev/ukbGPT/tutorials/../scgpt/model/model.py:76: UserWarning: flash-attn is not installed, using pytorch transformer instead. Set use_fast_transformer=False to avoid this warning. Installing flash-attn is highly recommended.\n",
      "  warnings.warn(\n"
     ]
    },
    {
     "name": "stdout",
     "output_type": "stream",
     "text": [
      "0.0\n",
      "trait c1003_t4836_i2_v21_s1_e100637\n",
      "last_trait= c1003_t20002-1112_i2_v22_s2_e6\n",
      "scGPT - INFO - Resume model from save/dev_UKB-Aug20-22-27/model.pt, the model args will override the config save/dev_UKB-Aug20-22-27/config.json.\n",
      "scGPT - INFO - Loading all model params from save/dev_UKB-Aug20-22-27/model.pt\n"
     ]
    },
    {
     "name": "stderr",
     "output_type": "stream",
     "text": [
      "/data/hongqy/dev/ukbGPT/tutorials/../scgpt/model/model.py:76: UserWarning: flash-attn is not installed, using pytorch transformer instead. Set use_fast_transformer=False to avoid this warning. Installing flash-attn is highly recommended.\n",
      "  warnings.warn(\n"
     ]
    },
    {
     "name": "stdout",
     "output_type": "stream",
     "text": [
      "0.9660126013665868\n",
      "trait c1003_t6152_i2_v22_s1_e100610\n",
      "last_trait= c1003_t20002-1112_i2_v22_s2_e6\n",
      "scGPT - INFO - Resume model from save/dev_UKB-Aug20-22-27/model.pt, the model args will override the config save/dev_UKB-Aug20-22-27/config.json.\n",
      "scGPT - INFO - Loading all model params from save/dev_UKB-Aug20-22-27/model.pt\n"
     ]
    },
    {
     "name": "stderr",
     "output_type": "stream",
     "text": [
      "/data/hongqy/dev/ukbGPT/tutorials/../scgpt/model/model.py:76: UserWarning: flash-attn is not installed, using pytorch transformer instead. Set use_fast_transformer=False to avoid this warning. Installing flash-attn is highly recommended.\n",
      "  warnings.warn(\n"
     ]
    },
    {
     "name": "stdout",
     "output_type": "stream",
     "text": [
      "1.0\n",
      "find useless trait= c1003_t6152_i2_v22_s1_e100610\n",
      "trait c1004_t1468_i2_v21_s1_e100393\n",
      "last_trait= c1003_t20002-1112_i2_v22_s2_e6\n",
      "scGPT - INFO - Resume model from save/dev_UKB-Aug20-22-27/model.pt, the model args will override the config save/dev_UKB-Aug20-22-27/config.json.\n",
      "scGPT - INFO - Loading all model params from save/dev_UKB-Aug20-22-27/model.pt\n"
     ]
    },
    {
     "name": "stderr",
     "output_type": "stream",
     "text": [
      "/data/hongqy/dev/ukbGPT/tutorials/../scgpt/model/model.py:76: UserWarning: flash-attn is not installed, using pytorch transformer instead. Set use_fast_transformer=False to avoid this warning. Installing flash-attn is highly recommended.\n",
      "  warnings.warn(\n"
     ]
    },
    {
     "name": "stdout",
     "output_type": "stream",
     "text": [
      "1.0\n",
      "find useless trait= c1004_t1468_i2_v21_s1_e100393\n",
      "trait c1004_t1478_i2_v21_s1_e100394\n",
      "last_trait= c1003_t20002-1112_i2_v22_s2_e6\n",
      "scGPT - INFO - Resume model from save/dev_UKB-Aug20-22-27/model.pt, the model args will override the config save/dev_UKB-Aug20-22-27/config.json.\n",
      "scGPT - INFO - Loading all model params from save/dev_UKB-Aug20-22-27/model.pt\n"
     ]
    },
    {
     "name": "stderr",
     "output_type": "stream",
     "text": [
      "/data/hongqy/dev/ukbGPT/tutorials/../scgpt/model/model.py:76: UserWarning: flash-attn is not installed, using pytorch transformer instead. Set use_fast_transformer=False to avoid this warning. Installing flash-attn is highly recommended.\n",
      "  warnings.warn(\n"
     ]
    },
    {
     "name": "stdout",
     "output_type": "stream",
     "text": [
      "1.0\n",
      "find useless trait= c1004_t1478_i2_v21_s1_e100394\n",
      "trait c1004_t1538_i2_v21_s1_e100400\n",
      "last_trait= c1003_t20002-1112_i2_v22_s2_e6\n",
      "scGPT - INFO - Resume model from save/dev_UKB-Aug20-22-27/model.pt, the model args will override the config save/dev_UKB-Aug20-22-27/config.json.\n",
      "scGPT - INFO - Loading all model params from save/dev_UKB-Aug20-22-27/model.pt\n"
     ]
    },
    {
     "name": "stderr",
     "output_type": "stream",
     "text": [
      "/data/hongqy/dev/ukbGPT/tutorials/../scgpt/model/model.py:76: UserWarning: flash-attn is not installed, using pytorch transformer instead. Set use_fast_transformer=False to avoid this warning. Installing flash-attn is highly recommended.\n",
      "  warnings.warn(\n"
     ]
    },
    {
     "name": "stdout",
     "output_type": "stream",
     "text": [
      "1.0\n",
      "find useless trait= c1004_t1538_i2_v21_s1_e100400\n",
      "trait c1004_t6144_i2_v22_s1_e100385\n",
      "last_trait= c1003_t20002-1112_i2_v22_s2_e6\n",
      "scGPT - INFO - Resume model from save/dev_UKB-Aug20-22-27/model.pt, the model args will override the config save/dev_UKB-Aug20-22-27/config.json.\n",
      "scGPT - INFO - Loading all model params from save/dev_UKB-Aug20-22-27/model.pt\n"
     ]
    },
    {
     "name": "stderr",
     "output_type": "stream",
     "text": [
      "/data/hongqy/dev/ukbGPT/tutorials/../scgpt/model/model.py:76: UserWarning: flash-attn is not installed, using pytorch transformer instead. Set use_fast_transformer=False to avoid this warning. Installing flash-attn is highly recommended.\n",
      "  warnings.warn(\n"
     ]
    },
    {
     "name": "stdout",
     "output_type": "stream",
     "text": [
      "1.0\n",
      "find useless trait= c1004_t6144_i2_v22_s1_e100385\n",
      "trait c1005_t20023_i2_v11_s1_e0\n",
      "last_trait= c1003_t20002-1112_i2_v22_s2_e6\n",
      "scGPT - INFO - Resume model from save/dev_UKB-Aug20-22-27/model.pt, the model args will override the config save/dev_UKB-Aug20-22-27/config.json.\n",
      "scGPT - INFO - Loading all model params from save/dev_UKB-Aug20-22-27/model.pt\n"
     ]
    },
    {
     "name": "stderr",
     "output_type": "stream",
     "text": [
      "/data/hongqy/dev/ukbGPT/tutorials/../scgpt/model/model.py:76: UserWarning: flash-attn is not installed, using pytorch transformer instead. Set use_fast_transformer=False to avoid this warning. Installing flash-attn is highly recommended.\n",
      "  warnings.warn(\n"
     ]
    },
    {
     "name": "stdout",
     "output_type": "stream",
     "text": [
      "1.0\n",
      "find useless trait= c1005_t20023_i2_v11_s1_e0\n",
      "trait c1006_t21002_i2_v31_s1_e0\n",
      "last_trait= c1003_t20002-1112_i2_v22_s2_e6\n",
      "scGPT - INFO - Resume model from save/dev_UKB-Aug20-22-27/model.pt, the model args will override the config save/dev_UKB-Aug20-22-27/config.json.\n",
      "scGPT - INFO - Loading all model params from save/dev_UKB-Aug20-22-27/model.pt\n"
     ]
    },
    {
     "name": "stderr",
     "output_type": "stream",
     "text": [
      "/data/hongqy/dev/ukbGPT/tutorials/../scgpt/model/model.py:76: UserWarning: flash-attn is not installed, using pytorch transformer instead. Set use_fast_transformer=False to avoid this warning. Installing flash-attn is highly recommended.\n",
      "  warnings.warn(\n"
     ]
    },
    {
     "name": "stdout",
     "output_type": "stream",
     "text": [
      "1.0\n",
      "find useless trait= c1006_t21002_i2_v31_s1_e0\n",
      "trait c1006_t23109_i2_v31_s1_e0\n",
      "last_trait= c1003_t20002-1112_i2_v22_s2_e6\n",
      "scGPT - INFO - Resume model from save/dev_UKB-Aug20-22-27/model.pt, the model args will override the config save/dev_UKB-Aug20-22-27/config.json.\n",
      "scGPT - INFO - Loading all model params from save/dev_UKB-Aug20-22-27/model.pt\n"
     ]
    },
    {
     "name": "stderr",
     "output_type": "stream",
     "text": [
      "/data/hongqy/dev/ukbGPT/tutorials/../scgpt/model/model.py:76: UserWarning: flash-attn is not installed, using pytorch transformer instead. Set use_fast_transformer=False to avoid this warning. Installing flash-attn is highly recommended.\n",
      "  warnings.warn(\n"
     ]
    },
    {
     "name": "stdout",
     "output_type": "stream",
     "text": [
      "1.0\n",
      "find useless trait= c1006_t23109_i2_v31_s1_e0\n",
      "trait c1006_t50_i2_v31_s1_e0\n",
      "last_trait= c1003_t20002-1112_i2_v22_s2_e6\n",
      "scGPT - INFO - Resume model from save/dev_UKB-Aug20-22-27/model.pt, the model args will override the config save/dev_UKB-Aug20-22-27/config.json.\n",
      "scGPT - INFO - Loading all model params from save/dev_UKB-Aug20-22-27/model.pt\n"
     ]
    },
    {
     "name": "stderr",
     "output_type": "stream",
     "text": [
      "/data/hongqy/dev/ukbGPT/tutorials/../scgpt/model/model.py:76: UserWarning: flash-attn is not installed, using pytorch transformer instead. Set use_fast_transformer=False to avoid this warning. Installing flash-attn is highly recommended.\n",
      "  warnings.warn(\n"
     ]
    },
    {
     "name": "stdout",
     "output_type": "stream",
     "text": [
      "1.0\n",
      "find useless trait= c1006_t50_i2_v31_s1_e0\n",
      "trait c1017_t22025_i0_v31_s1_e0\n",
      "last_trait= c1003_t20002-1112_i2_v22_s2_e6\n",
      "scGPT - INFO - Resume model from save/dev_UKB-Aug20-22-27/model.pt, the model args will override the config save/dev_UKB-Aug20-22-27/config.json.\n",
      "scGPT - INFO - Loading all model params from save/dev_UKB-Aug20-22-27/model.pt\n"
     ]
    },
    {
     "name": "stderr",
     "output_type": "stream",
     "text": [
      "/data/hongqy/dev/ukbGPT/tutorials/../scgpt/model/model.py:76: UserWarning: flash-attn is not installed, using pytorch transformer instead. Set use_fast_transformer=False to avoid this warning. Installing flash-attn is highly recommended.\n",
      "  warnings.warn(\n"
     ]
    },
    {
     "name": "stdout",
     "output_type": "stream",
     "text": [
      "1.0\n",
      "find useless trait= c1017_t22025_i0_v31_s1_e0\n",
      "trait c1017_t22028_i0_v21_s1_e100264\n",
      "last_trait= c1003_t20002-1112_i2_v22_s2_e6\n",
      "scGPT - INFO - Resume model from save/dev_UKB-Aug20-22-27/model.pt, the model args will override the config save/dev_UKB-Aug20-22-27/config.json.\n",
      "scGPT - INFO - Loading all model params from save/dev_UKB-Aug20-22-27/model.pt\n"
     ]
    },
    {
     "name": "stderr",
     "output_type": "stream",
     "text": [
      "/data/hongqy/dev/ukbGPT/tutorials/../scgpt/model/model.py:76: UserWarning: flash-attn is not installed, using pytorch transformer instead. Set use_fast_transformer=False to avoid this warning. Installing flash-attn is highly recommended.\n",
      "  warnings.warn(\n"
     ]
    },
    {
     "name": "stdout",
     "output_type": "stream",
     "text": [
      "1.0\n",
      "find useless trait= c1017_t22028_i0_v21_s1_e100264\n",
      "trait c1017_t22030_i0_v21_s1_e100264\n",
      "last_trait= c1003_t20002-1112_i2_v22_s2_e6\n",
      "scGPT - INFO - Resume model from save/dev_UKB-Aug20-22-27/model.pt, the model args will override the config save/dev_UKB-Aug20-22-27/config.json.\n",
      "scGPT - INFO - Loading all model params from save/dev_UKB-Aug20-22-27/model.pt\n"
     ]
    },
    {
     "name": "stderr",
     "output_type": "stream",
     "text": [
      "/data/hongqy/dev/ukbGPT/tutorials/../scgpt/model/model.py:76: UserWarning: flash-attn is not installed, using pytorch transformer instead. Set use_fast_transformer=False to avoid this warning. Installing flash-attn is highly recommended.\n",
      "  warnings.warn(\n"
     ]
    },
    {
     "name": "stdout",
     "output_type": "stream",
     "text": [
      "1.0\n",
      "find useless trait= c1017_t22030_i0_v21_s1_e100264\n",
      "trait c1018_t20510_i0_v21_s1_e504\n",
      "last_trait= c1003_t20002-1112_i2_v22_s2_e6\n",
      "scGPT - INFO - Resume model from save/dev_UKB-Aug20-22-27/model.pt, the model args will override the config save/dev_UKB-Aug20-22-27/config.json.\n",
      "scGPT - INFO - Loading all model params from save/dev_UKB-Aug20-22-27/model.pt\n"
     ]
    },
    {
     "name": "stderr",
     "output_type": "stream",
     "text": [
      "/data/hongqy/dev/ukbGPT/tutorials/../scgpt/model/model.py:76: UserWarning: flash-attn is not installed, using pytorch transformer instead. Set use_fast_transformer=False to avoid this warning. Installing flash-attn is highly recommended.\n",
      "  warnings.warn(\n"
     ]
    },
    {
     "name": "stdout",
     "output_type": "stream",
     "text": [
      "1.0\n",
      "find useless trait= c1018_t20510_i0_v21_s1_e504\n",
      "trait c1018_t20539_i0_v21_s1_e519\n",
      "last_trait= c1003_t20002-1112_i2_v22_s2_e6\n",
      "scGPT - INFO - Resume model from save/dev_UKB-Aug20-22-27/model.pt, the model args will override the config save/dev_UKB-Aug20-22-27/config.json.\n",
      "scGPT - INFO - Loading all model params from save/dev_UKB-Aug20-22-27/model.pt\n"
     ]
    },
    {
     "name": "stderr",
     "output_type": "stream",
     "text": [
      "/data/hongqy/dev/ukbGPT/tutorials/../scgpt/model/model.py:76: UserWarning: flash-attn is not installed, using pytorch transformer instead. Set use_fast_transformer=False to avoid this warning. Installing flash-attn is highly recommended.\n",
      "  warnings.warn(\n"
     ]
    },
    {
     "name": "stdout",
     "output_type": "stream",
     "text": [
      "1.0\n",
      "find useless trait= c1018_t20539_i0_v21_s1_e519\n",
      "trait c1018_t2060_i2_v21_s1_e100484\n",
      "last_trait= c1003_t20002-1112_i2_v22_s2_e6\n",
      "scGPT - INFO - Resume model from save/dev_UKB-Aug20-22-27/model.pt, the model args will override the config save/dev_UKB-Aug20-22-27/config.json.\n",
      "scGPT - INFO - Loading all model params from save/dev_UKB-Aug20-22-27/model.pt\n"
     ]
    },
    {
     "name": "stderr",
     "output_type": "stream",
     "text": [
      "/data/hongqy/dev/ukbGPT/tutorials/../scgpt/model/model.py:76: UserWarning: flash-attn is not installed, using pytorch transformer instead. Set use_fast_transformer=False to avoid this warning. Installing flash-attn is highly recommended.\n",
      "  warnings.warn(\n"
     ]
    },
    {
     "name": "stdout",
     "output_type": "stream",
     "text": [
      "1.0\n",
      "find useless trait= c1018_t2060_i2_v21_s1_e100484\n",
      "trait c1018_t2100_i2_v21_s1_e100349\n",
      "last_trait= c1003_t20002-1112_i2_v22_s2_e6\n",
      "scGPT - INFO - Resume model from save/dev_UKB-Aug20-22-27/model.pt, the model args will override the config save/dev_UKB-Aug20-22-27/config.json.\n",
      "scGPT - INFO - Loading all model params from save/dev_UKB-Aug20-22-27/model.pt\n"
     ]
    },
    {
     "name": "stderr",
     "output_type": "stream",
     "text": [
      "/data/hongqy/dev/ukbGPT/tutorials/../scgpt/model/model.py:76: UserWarning: flash-attn is not installed, using pytorch transformer instead. Set use_fast_transformer=False to avoid this warning. Installing flash-attn is highly recommended.\n",
      "  warnings.warn(\n"
     ]
    },
    {
     "name": "stdout",
     "output_type": "stream",
     "text": [
      "1.0\n",
      "find useless trait= c1018_t2100_i2_v21_s1_e100349\n",
      "trait c1018_t4570_i2_v21_s1_e100478\n",
      "last_trait= c1003_t20002-1112_i2_v22_s2_e6\n",
      "scGPT - INFO - Resume model from save/dev_UKB-Aug20-22-27/model.pt, the model args will override the config save/dev_UKB-Aug20-22-27/config.json.\n",
      "scGPT - INFO - Loading all model params from save/dev_UKB-Aug20-22-27/model.pt\n"
     ]
    },
    {
     "name": "stderr",
     "output_type": "stream",
     "text": [
      "/data/hongqy/dev/ukbGPT/tutorials/../scgpt/model/model.py:76: UserWarning: flash-attn is not installed, using pytorch transformer instead. Set use_fast_transformer=False to avoid this warning. Installing flash-attn is highly recommended.\n",
      "  warnings.warn(\n"
     ]
    },
    {
     "name": "stdout",
     "output_type": "stream",
     "text": [
      "1.0\n",
      "find useless trait= c1018_t4570_i2_v21_s1_e100478\n",
      "trait c1018_t4653_i2_v21_s1_e100349\n",
      "last_trait= c1003_t20002-1112_i2_v22_s2_e6\n",
      "scGPT - INFO - Resume model from save/dev_UKB-Aug20-22-27/model.pt, the model args will override the config save/dev_UKB-Aug20-22-27/config.json.\n",
      "scGPT - INFO - Loading all model params from save/dev_UKB-Aug20-22-27/model.pt\n"
     ]
    },
    {
     "name": "stderr",
     "output_type": "stream",
     "text": [
      "/data/hongqy/dev/ukbGPT/tutorials/../scgpt/model/model.py:76: UserWarning: flash-attn is not installed, using pytorch transformer instead. Set use_fast_transformer=False to avoid this warning. Installing flash-attn is highly recommended.\n",
      "  warnings.warn(\n"
     ]
    },
    {
     "name": "stdout",
     "output_type": "stream",
     "text": [
      "1.0\n",
      "find useless trait= c1018_t4653_i2_v21_s1_e100349\n",
      "trait c1018_t6145_i2_v22_s1_e100502\n",
      "last_trait= c1003_t20002-1112_i2_v22_s2_e6\n",
      "scGPT - INFO - Resume model from save/dev_UKB-Aug20-22-27/model.pt, the model args will override the config save/dev_UKB-Aug20-22-27/config.json.\n",
      "scGPT - INFO - Loading all model params from save/dev_UKB-Aug20-22-27/model.pt\n"
     ]
    },
    {
     "name": "stderr",
     "output_type": "stream",
     "text": [
      "/data/hongqy/dev/ukbGPT/tutorials/../scgpt/model/model.py:76: UserWarning: flash-attn is not installed, using pytorch transformer instead. Set use_fast_transformer=False to avoid this warning. Installing flash-attn is highly recommended.\n",
      "  warnings.warn(\n"
     ]
    },
    {
     "name": "stdout",
     "output_type": "stream",
     "text": [
      "1.0\n",
      "find useless trait= c1018_t6145_i2_v22_s1_e100502\n",
      "trait c701_t21022_i0_v11_s1_e0\n",
      "last_trait= c1003_t20002-1112_i2_v22_s2_e6\n",
      "scGPT - INFO - Resume model from save/dev_UKB-Aug20-22-27/model.pt, the model args will override the config save/dev_UKB-Aug20-22-27/config.json.\n",
      "scGPT - INFO - Loading all model params from save/dev_UKB-Aug20-22-27/model.pt\n"
     ]
    },
    {
     "name": "stderr",
     "output_type": "stream",
     "text": [
      "/data/hongqy/dev/ukbGPT/tutorials/../scgpt/model/model.py:76: UserWarning: flash-attn is not installed, using pytorch transformer instead. Set use_fast_transformer=False to avoid this warning. Installing flash-attn is highly recommended.\n",
      "  warnings.warn(\n"
     ]
    },
    {
     "name": "stdout",
     "output_type": "stream",
     "text": [
      "1.0\n",
      "find useless trait= c701_t21022_i0_v11_s1_e0\n",
      "trait c701_t26411_i0_v31_s1_e0\n",
      "last_trait= c1003_t20002-1112_i2_v22_s2_e6\n",
      "scGPT - INFO - Resume model from save/dev_UKB-Aug20-22-27/model.pt, the model args will override the config save/dev_UKB-Aug20-22-27/config.json.\n",
      "scGPT - INFO - Loading all model params from save/dev_UKB-Aug20-22-27/model.pt\n"
     ]
    },
    {
     "name": "stderr",
     "output_type": "stream",
     "text": [
      "/data/hongqy/dev/ukbGPT/tutorials/../scgpt/model/model.py:76: UserWarning: flash-attn is not installed, using pytorch transformer instead. Set use_fast_transformer=False to avoid this warning. Installing flash-attn is highly recommended.\n",
      "  warnings.warn(\n"
     ]
    },
    {
     "name": "stdout",
     "output_type": "stream",
     "text": [
      "1.0\n",
      "find useless trait= c701_t26411_i0_v31_s1_e0\n",
      "trait c701_t26414_i0_v31_s1_e0\n",
      "last_trait= c1003_t20002-1112_i2_v22_s2_e6\n",
      "scGPT - INFO - Resume model from save/dev_UKB-Aug20-22-27/model.pt, the model args will override the config save/dev_UKB-Aug20-22-27/config.json.\n",
      "scGPT - INFO - Loading all model params from save/dev_UKB-Aug20-22-27/model.pt\n"
     ]
    },
    {
     "name": "stderr",
     "output_type": "stream",
     "text": [
      "/data/hongqy/dev/ukbGPT/tutorials/../scgpt/model/model.py:76: UserWarning: flash-attn is not installed, using pytorch transformer instead. Set use_fast_transformer=False to avoid this warning. Installing flash-attn is highly recommended.\n",
      "  warnings.warn(\n"
     ]
    },
    {
     "name": "stdout",
     "output_type": "stream",
     "text": [
      "1.0\n",
      "find useless trait= c701_t26414_i0_v31_s1_e0\n",
      "trait c701_t26415_i0_v31_s1_e0\n",
      "last_trait= c1003_t20002-1112_i2_v22_s2_e6\n",
      "scGPT - INFO - Resume model from save/dev_UKB-Aug20-22-27/model.pt, the model args will override the config save/dev_UKB-Aug20-22-27/config.json.\n",
      "scGPT - INFO - Loading all model params from save/dev_UKB-Aug20-22-27/model.pt\n"
     ]
    },
    {
     "name": "stderr",
     "output_type": "stream",
     "text": [
      "/data/hongqy/dev/ukbGPT/tutorials/../scgpt/model/model.py:76: UserWarning: flash-attn is not installed, using pytorch transformer instead. Set use_fast_transformer=False to avoid this warning. Installing flash-attn is highly recommended.\n",
      "  warnings.warn(\n"
     ]
    },
    {
     "name": "stdout",
     "output_type": "stream",
     "text": [
      "1.0\n",
      "find useless trait= c701_t26415_i0_v31_s1_e0\n",
      "trait c701_t6146_i2_v22_s1_e100510\n",
      "last_trait= c1003_t20002-1112_i2_v22_s2_e6\n",
      "scGPT - INFO - Resume model from save/dev_UKB-Aug20-22-27/model.pt, the model args will override the config save/dev_UKB-Aug20-22-27/config.json.\n",
      "scGPT - INFO - Loading all model params from save/dev_UKB-Aug20-22-27/model.pt\n"
     ]
    },
    {
     "name": "stderr",
     "output_type": "stream",
     "text": [
      "/data/hongqy/dev/ukbGPT/tutorials/../scgpt/model/model.py:76: UserWarning: flash-attn is not installed, using pytorch transformer instead. Set use_fast_transformer=False to avoid this warning. Installing flash-attn is highly recommended.\n",
      "  warnings.warn(\n"
     ]
    },
    {
     "name": "stdout",
     "output_type": "stream",
     "text": [
      "1.0\n",
      "find useless trait= c701_t6146_i2_v22_s1_e100510\n",
      "trait c704_t1031_i2_v21_s1_e100327\n",
      "last_trait= c1003_t20002-1112_i2_v22_s2_e6\n",
      "scGPT - INFO - Resume model from save/dev_UKB-Aug20-22-27/model.pt, the model args will override the config save/dev_UKB-Aug20-22-27/config.json.\n",
      "scGPT - INFO - Loading all model params from save/dev_UKB-Aug20-22-27/model.pt\n"
     ]
    },
    {
     "name": "stderr",
     "output_type": "stream",
     "text": [
      "/data/hongqy/dev/ukbGPT/tutorials/../scgpt/model/model.py:76: UserWarning: flash-attn is not installed, using pytorch transformer instead. Set use_fast_transformer=False to avoid this warning. Installing flash-attn is highly recommended.\n",
      "  warnings.warn(\n"
     ]
    },
    {
     "name": "stdout",
     "output_type": "stream",
     "text": [
      "1.0\n",
      "find useless trait= c704_t1031_i2_v21_s1_e100327\n",
      "trait c704_t1060_i2_v11_s1_e100329\n",
      "last_trait= c1003_t20002-1112_i2_v22_s2_e6\n",
      "scGPT - INFO - Resume model from save/dev_UKB-Aug20-22-27/model.pt, the model args will override the config save/dev_UKB-Aug20-22-27/config.json.\n",
      "scGPT - INFO - Loading all model params from save/dev_UKB-Aug20-22-27/model.pt\n"
     ]
    },
    {
     "name": "stderr",
     "output_type": "stream",
     "text": [
      "/data/hongqy/dev/ukbGPT/tutorials/../scgpt/model/model.py:76: UserWarning: flash-attn is not installed, using pytorch transformer instead. Set use_fast_transformer=False to avoid this warning. Installing flash-attn is highly recommended.\n",
      "  warnings.warn(\n"
     ]
    },
    {
     "name": "stdout",
     "output_type": "stream",
     "text": [
      "1.0\n",
      "find useless trait= c704_t1060_i2_v11_s1_e100329\n",
      "trait c704_t1110_i2_v21_s1_e100335\n",
      "last_trait= c1003_t20002-1112_i2_v22_s2_e6\n",
      "scGPT - INFO - Resume model from save/dev_UKB-Aug20-22-27/model.pt, the model args will override the config save/dev_UKB-Aug20-22-27/config.json.\n",
      "scGPT - INFO - Loading all model params from save/dev_UKB-Aug20-22-27/model.pt\n"
     ]
    },
    {
     "name": "stderr",
     "output_type": "stream",
     "text": [
      "/data/hongqy/dev/ukbGPT/tutorials/../scgpt/model/model.py:76: UserWarning: flash-attn is not installed, using pytorch transformer instead. Set use_fast_transformer=False to avoid this warning. Installing flash-attn is highly recommended.\n",
      "  warnings.warn(\n"
     ]
    },
    {
     "name": "stdout",
     "output_type": "stream",
     "text": [
      "1.0\n",
      "find useless trait= c704_t1110_i2_v21_s1_e100335\n",
      "trait c704_t1130_i2_v21_s1_e100337\n",
      "last_trait= c1003_t20002-1112_i2_v22_s2_e6\n",
      "scGPT - INFO - Resume model from save/dev_UKB-Aug20-22-27/model.pt, the model args will override the config save/dev_UKB-Aug20-22-27/config.json.\n",
      "scGPT - INFO - Loading all model params from save/dev_UKB-Aug20-22-27/model.pt\n"
     ]
    },
    {
     "name": "stderr",
     "output_type": "stream",
     "text": [
      "/data/hongqy/dev/ukbGPT/tutorials/../scgpt/model/model.py:76: UserWarning: flash-attn is not installed, using pytorch transformer instead. Set use_fast_transformer=False to avoid this warning. Installing flash-attn is highly recommended.\n",
      "  warnings.warn(\n"
     ]
    },
    {
     "name": "stdout",
     "output_type": "stream",
     "text": [
      "1.0\n",
      "find useless trait= c704_t1130_i2_v21_s1_e100337\n",
      "trait c704_t1628_i2_v21_s1_e100417\n",
      "last_trait= c1003_t20002-1112_i2_v22_s2_e6\n",
      "scGPT - INFO - Resume model from save/dev_UKB-Aug20-22-27/model.pt, the model args will override the config save/dev_UKB-Aug20-22-27/config.json.\n",
      "scGPT - INFO - Loading all model params from save/dev_UKB-Aug20-22-27/model.pt\n"
     ]
    },
    {
     "name": "stderr",
     "output_type": "stream",
     "text": [
      "/data/hongqy/dev/ukbGPT/tutorials/../scgpt/model/model.py:76: UserWarning: flash-attn is not installed, using pytorch transformer instead. Set use_fast_transformer=False to avoid this warning. Installing flash-attn is highly recommended.\n",
      "  warnings.warn(\n"
     ]
    },
    {
     "name": "stdout",
     "output_type": "stream",
     "text": [
      "1.0\n",
      "find useless trait= c704_t1628_i2_v21_s1_e100417\n",
      "trait c704_t22038_i2_v31_s1_e0\n",
      "last_trait= c1003_t20002-1112_i2_v22_s2_e6\n",
      "scGPT - INFO - Resume model from save/dev_UKB-Aug20-22-27/model.pt, the model args will override the config save/dev_UKB-Aug20-22-27/config.json.\n",
      "scGPT - INFO - Loading all model params from save/dev_UKB-Aug20-22-27/model.pt\n"
     ]
    },
    {
     "name": "stderr",
     "output_type": "stream",
     "text": [
      "/data/hongqy/dev/ukbGPT/tutorials/../scgpt/model/model.py:76: UserWarning: flash-attn is not installed, using pytorch transformer instead. Set use_fast_transformer=False to avoid this warning. Installing flash-attn is highly recommended.\n",
      "  warnings.warn(\n"
     ]
    },
    {
     "name": "stdout",
     "output_type": "stream",
     "text": [
      "1.0\n",
      "find useless trait= c704_t22038_i2_v31_s1_e0\n",
      "trait c704_t2624_i2_v21_s1_e100317\n",
      "last_trait= c1003_t20002-1112_i2_v22_s2_e6\n",
      "scGPT - INFO - Resume model from save/dev_UKB-Aug20-22-27/model.pt, the model args will override the config save/dev_UKB-Aug20-22-27/config.json.\n",
      "scGPT - INFO - Loading all model params from save/dev_UKB-Aug20-22-27/model.pt\n"
     ]
    },
    {
     "name": "stderr",
     "output_type": "stream",
     "text": [
      "/data/hongqy/dev/ukbGPT/tutorials/../scgpt/model/model.py:76: UserWarning: flash-attn is not installed, using pytorch transformer instead. Set use_fast_transformer=False to avoid this warning. Installing flash-attn is highly recommended.\n",
      "  warnings.warn(\n"
     ]
    },
    {
     "name": "stdout",
     "output_type": "stream",
     "text": [
      "1.0\n",
      "find useless trait= c704_t2624_i2_v21_s1_e100317\n",
      "trait c704_t2907_i2_v21_s1_e100349\n",
      "last_trait= c1003_t20002-1112_i2_v22_s2_e6\n",
      "scGPT - INFO - Resume model from save/dev_UKB-Aug20-22-27/model.pt, the model args will override the config save/dev_UKB-Aug20-22-27/config.json.\n",
      "scGPT - INFO - Loading all model params from save/dev_UKB-Aug20-22-27/model.pt\n"
     ]
    },
    {
     "name": "stderr",
     "output_type": "stream",
     "text": [
      "/data/hongqy/dev/ukbGPT/tutorials/../scgpt/model/model.py:76: UserWarning: flash-attn is not installed, using pytorch transformer instead. Set use_fast_transformer=False to avoid this warning. Installing flash-attn is highly recommended.\n",
      "  warnings.warn(\n"
     ]
    },
    {
     "name": "stdout",
     "output_type": "stream",
     "text": [
      "1.0\n",
      "find useless trait= c704_t2907_i2_v21_s1_e100349\n",
      "trait c704_t3446_i2_v21_s1_e100351\n",
      "last_trait= c1003_t20002-1112_i2_v22_s2_e6\n",
      "scGPT - INFO - Resume model from save/dev_UKB-Aug20-22-27/model.pt, the model args will override the config save/dev_UKB-Aug20-22-27/config.json.\n",
      "scGPT - INFO - Loading all model params from save/dev_UKB-Aug20-22-27/model.pt\n"
     ]
    },
    {
     "name": "stderr",
     "output_type": "stream",
     "text": [
      "/data/hongqy/dev/ukbGPT/tutorials/../scgpt/model/model.py:76: UserWarning: flash-attn is not installed, using pytorch transformer instead. Set use_fast_transformer=False to avoid this warning. Installing flash-attn is highly recommended.\n",
      "  warnings.warn(\n"
     ]
    },
    {
     "name": "stdout",
     "output_type": "stream",
     "text": [
      "1.0\n",
      "find useless trait= c704_t3446_i2_v21_s1_e100351\n",
      "trait c704_t5364_i2_v11_s1_e100291\n",
      "last_trait= c1003_t20002-1112_i2_v22_s2_e6\n",
      "scGPT - INFO - Resume model from save/dev_UKB-Aug20-22-27/model.pt, the model args will override the config save/dev_UKB-Aug20-22-27/config.json.\n",
      "scGPT - INFO - Loading all model params from save/dev_UKB-Aug20-22-27/model.pt\n"
     ]
    },
    {
     "name": "stderr",
     "output_type": "stream",
     "text": [
      "/data/hongqy/dev/ukbGPT/tutorials/../scgpt/model/model.py:76: UserWarning: flash-attn is not installed, using pytorch transformer instead. Set use_fast_transformer=False to avoid this warning. Installing flash-attn is highly recommended.\n",
      "  warnings.warn(\n"
     ]
    },
    {
     "name": "stdout",
     "output_type": "stream",
     "text": [
      "1.0\n",
      "find useless trait= c704_t5364_i2_v11_s1_e100291\n",
      "trait c705_t1873_i2_v11_s1_e100291\n",
      "last_trait= c1003_t20002-1112_i2_v22_s2_e6\n",
      "scGPT - INFO - Resume model from save/dev_UKB-Aug20-22-27/model.pt, the model args will override the config save/dev_UKB-Aug20-22-27/config.json.\n",
      "scGPT - INFO - Loading all model params from save/dev_UKB-Aug20-22-27/model.pt\n"
     ]
    },
    {
     "name": "stderr",
     "output_type": "stream",
     "text": [
      "/data/hongqy/dev/ukbGPT/tutorials/../scgpt/model/model.py:76: UserWarning: flash-attn is not installed, using pytorch transformer instead. Set use_fast_transformer=False to avoid this warning. Installing flash-attn is highly recommended.\n",
      "  warnings.warn(\n"
     ]
    },
    {
     "name": "stdout",
     "output_type": "stream",
     "text": [
      "1.0\n",
      "find useless trait= c705_t1873_i2_v11_s1_e100291\n",
      "trait c717_t30080_i2_v31_s1_e0\n",
      "last_trait= c1003_t20002-1112_i2_v22_s2_e6\n",
      "scGPT - INFO - Resume model from save/dev_UKB-Aug20-22-27/model.pt, the model args will override the config save/dev_UKB-Aug20-22-27/config.json.\n",
      "scGPT - INFO - Loading all model params from save/dev_UKB-Aug20-22-27/model.pt\n"
     ]
    },
    {
     "name": "stderr",
     "output_type": "stream",
     "text": [
      "/data/hongqy/dev/ukbGPT/tutorials/../scgpt/model/model.py:76: UserWarning: flash-attn is not installed, using pytorch transformer instead. Set use_fast_transformer=False to avoid this warning. Installing flash-attn is highly recommended.\n",
      "  warnings.warn(\n"
     ]
    },
    {
     "name": "stdout",
     "output_type": "stream",
     "text": [
      "1.0\n",
      "find useless trait= c717_t30080_i2_v31_s1_e0\n",
      "trait c717_t30180_i2_v31_s1_e0\n",
      "last_trait= c1003_t20002-1112_i2_v22_s2_e6\n",
      "scGPT - INFO - Resume model from save/dev_UKB-Aug20-22-27/model.pt, the model args will override the config save/dev_UKB-Aug20-22-27/config.json.\n",
      "scGPT - INFO - Loading all model params from save/dev_UKB-Aug20-22-27/model.pt\n"
     ]
    },
    {
     "name": "stderr",
     "output_type": "stream",
     "text": [
      "/data/hongqy/dev/ukbGPT/tutorials/../scgpt/model/model.py:76: UserWarning: flash-attn is not installed, using pytorch transformer instead. Set use_fast_transformer=False to avoid this warning. Installing flash-attn is highly recommended.\n",
      "  warnings.warn(\n"
     ]
    },
    {
     "name": "stdout",
     "output_type": "stream",
     "text": [
      "1.0\n",
      "find useless trait= c717_t30180_i2_v31_s1_e0\n",
      "trait c717_t30270_i2_v31_s1_e0\n",
      "last_trait= c1003_t20002-1112_i2_v22_s2_e6\n",
      "scGPT - INFO - Resume model from save/dev_UKB-Aug20-22-27/model.pt, the model args will override the config save/dev_UKB-Aug20-22-27/config.json.\n",
      "scGPT - INFO - Loading all model params from save/dev_UKB-Aug20-22-27/model.pt\n"
     ]
    },
    {
     "name": "stderr",
     "output_type": "stream",
     "text": [
      "/data/hongqy/dev/ukbGPT/tutorials/../scgpt/model/model.py:76: UserWarning: flash-attn is not installed, using pytorch transformer instead. Set use_fast_transformer=False to avoid this warning. Installing flash-attn is highly recommended.\n",
      "  warnings.warn(\n"
     ]
    },
    {
     "name": "stdout",
     "output_type": "stream",
     "text": [
      "0.0\n",
      "trait c1003_t20002-1112_i2_v22_s2_e6\n",
      "last_trait= c1003_t20002-1112_i2_v22_s2_e6\n",
      "jump out\n"
     ]
    }
   ],
   "source": [
    "## 循环排除对F1值没有影响的traits，缩减重要的traits. 从69个中再进一步筛选\n",
    "import copy\n",
    "important_traits = important_traits_69\n",
    "important_traits.remove('c1003_t20002-1112_i2_v22_s2_e6')\n",
    "important_traits.append('c1003_t20002-1112_i2_v22_s2_e6')\n",
    "important_traits_origin = copy.deepcopy(important_traits)\n",
    "useless_traits = []\n",
    "last_trait = important_traits[-1]\n",
    "for trait in important_traits_origin:\n",
    "    print('trait', trait)\n",
    "    print('last_trait=', last_trait)\n",
    "    if trait == last_trait:\n",
    "        print('jump out')\n",
    "        break\n",
    "    important_traits.remove(trait)\n",
    "    excluded_value_tokens = traits_df[~traits_df['trait'].isin(important_traits)]['token_id'].values\n",
    "    \n",
    "    # 假设 tokenized_train[\"values\"] 是一个整数类型的张量\n",
    "    input_values_train = tokenized_train[\"values\"].clone()\n",
    "    \n",
    "    # 确保 diseases_df 的值转换为与 input_values_train 相同的类型\n",
    "    excluded_value_tokens_tensor = torch.tensor(excluded_value_tokens, dtype=input_values_train.dtype)\n",
    "    \n",
    "    # 掩码值也要与 input_values_train 保持相同的数据类型\n",
    "    pad_value_tensor = torch.tensor(pad_value, dtype=input_values_train.dtype)\n",
    "    \n",
    "    # 使用 torch.isin 和 torch.where 进行掩码操作\n",
    "    input_values_train = torch.where(\n",
    "        torch.isin(input_values_train, excluded_value_tokens_tensor),\n",
    "        pad_value_tensor,\n",
    "        input_values_train\n",
    "    )\n",
    "    \n",
    "    \n",
    "    \n",
    "    \n",
    "    tensor_batch_labels_train = torch.zeros(input_trait_ids_train.shape[0])\n",
    "    tensor_individualtype_labels_train = individualtypes_labels\n",
    "    \n",
    "    \n",
    "    train_data_pt = {\n",
    "        \"trait_ids\": input_trait_ids_train,\n",
    "        \"values\": input_values_train,\n",
    "        \"target_values\": target_values_train,\n",
    "        \"batch_labels\": tensor_batch_labels_train,\n",
    "        \"individualtype_labels\": tensor_individualtype_labels_train,\n",
    "    }\n",
    "    \n",
    "    # dataset\n",
    "    class SeqDataset(Dataset):\n",
    "        def __init__(self, data: Dict[str, torch.Tensor]):\n",
    "            self.data = data\n",
    "    \n",
    "        def __len__(self):\n",
    "            return self.data[\"trait_ids\"].shape[0]\n",
    "    \n",
    "        def __getitem__(self, idx):\n",
    "            return {k: v[idx] for k, v in self.data.items()}\n",
    "    \n",
    "    \n",
    "    num_workers = len(os.sched_getaffinity(0))\n",
    "    \n",
    "    dataset = SeqDataset(train_data_pt)\n",
    "    \n",
    "    \n",
    "    train_loader = DataLoader(\n",
    "        dataset=dataset,\n",
    "        batch_size=100,\n",
    "        shuffle=False,  # 20240905改成False避免后续提取eid混乱\n",
    "        drop_last=False,\n",
    "        num_workers=num_workers,\n",
    "        pin_memory=True,\n",
    "    )\n",
    "    \n",
    "    \n",
    "    \n",
    "    \n",
    "    \n",
    "    # model\n",
    "    with open(model_config_file, \"r\") as f:\n",
    "        model_configs = json.load(f)\n",
    "    logger.info(\n",
    "        f\"Resume model from {model_file}, the model args will override the \"\n",
    "        f\"config {model_config_file}.\"\n",
    "    )\n",
    "    embsize = model_configs[\"layer_size\"]\n",
    "    nhead = model_configs[\"nhead\"]\n",
    "    d_hid = model_configs[\"layer_size\"]\n",
    "    nlayers = model_configs[\"nlayers\"]\n",
    "    \n",
    "    \n",
    "    dropout = model_configs[\"dropout\"]\n",
    "    mask_value = vocab[mask_token]\n",
    "    pad_value = vocab[pad_token]\n",
    "    cls_value = vocab[cls_token]\n",
    "    MVC = False\n",
    "    DAB = False  # Domain adaptation by reverse backpropagation, set to 2 for separate optimizer\n",
    "    INPUT_BATCH_LABELS = False  # TODO: have these help MLM and MVC, while not to classifier\n",
    "    \n",
    "    num_batch_types = 1\n",
    "    DSBN = False,  # Domain-spec batchnorm\n",
    "    input_emb_style = \"combine\"  # \"category\" or \"continuous\" or \"scaling\" or \"combine\"\n",
    "    n_input_bins = None\n",
    "    individual_emb_style = \"avg-pool\"  # \"avg-pool\" or \"w-pool\" or \"cls\"\n",
    "    mvc_decoder_style = \"inner product\"\n",
    "    \n",
    "    ecs_threshold = model_configs[\"ecs_thres\"]\n",
    "    explicit_zero_prob = True\n",
    "    fast_transformer = True\n",
    "    fast_transformer_backend = \"flash\"\n",
    "    pre_norm=False\n",
    "    CLS = False\n",
    "    \n",
    "    ntokens = len(set(value2trait_dict.values()))  # size of vocabulary\n",
    "    model = TransformerModel(\n",
    "        ntokens,\n",
    "        embsize,\n",
    "        nhead,\n",
    "        d_hid,\n",
    "        nlayers,\n",
    "        nlayers_cls=3,\n",
    "        n_cls=num_types if CLS else 1,\n",
    "        vocab=vocab,\n",
    "        dropout=dropout,\n",
    "        pad_token=pad_token,\n",
    "        do_mvc=MVC,\n",
    "        do_dab=DAB,\n",
    "        use_batch_labels=INPUT_BATCH_LABELS,\n",
    "        num_batch_labels=num_batch_types,\n",
    "        domain_spec_batchnorm=DSBN,\n",
    "        input_emb_style=input_emb_style,\n",
    "        n_input_bins=n_input_bins,\n",
    "        individual_emb_style=individual_emb_style,\n",
    "        mvc_decoder_style=mvc_decoder_style,\n",
    "        ecs_threshold=ecs_threshold,\n",
    "        explicit_zero_prob=explicit_zero_prob,\n",
    "        use_fast_transformer=fast_transformer,\n",
    "        fast_transformer_backend=fast_transformer_backend,\n",
    "        pre_norm=pre_norm,\n",
    "    )\n",
    "    \n",
    "    # 加载模型参数\n",
    "    state_dict = torch.load(model_file)\n",
    "    \n",
    "    # 去除所有键的 module. 前缀\n",
    "    new_state_dict = {}\n",
    "    for key, value in state_dict.items():\n",
    "        if key.startswith('module.'):\n",
    "            new_key = key[len('module.'):]  # 去除 module. 前缀\n",
    "        else:\n",
    "            new_key = key\n",
    "        new_state_dict[new_key] = value\n",
    "    \n",
    "    # 使用新的 state_dict 加载模型\n",
    "    model.load_state_dict(new_state_dict)\n",
    "    \n",
    "    logger.info(f\"Loading all model params from {model_file}\")\n",
    "    model.eval()\n",
    "    \n",
    "    model.to('cuda:0')\n",
    "    select_disease_embeddings_list = []\n",
    "    for batch, batch_data in enumerate(train_loader):\n",
    "        input_trait_ids = batch_data[\"trait_ids\"].to('cuda:0')\n",
    "        input_values = batch_data[\"values\"].to('cuda:0')\n",
    "        target_values = batch_data[\"target_values\"].to('cuda:0')\n",
    "        batch_labels = batch_data[\"batch_labels\"].to('cuda:0')\n",
    "        individualtype_labels = batch_data[\"individualtype_labels\"].to('cuda:0')\n",
    "        src_key_padding_mask = input_trait_ids.eq(vocab[pad_token])\n",
    "        with torch.no_grad():\n",
    "            transformer_output = model._encode(\n",
    "                input_trait_ids, input_values, src_key_padding_mask, batch_labels\n",
    "            )\n",
    "            \n",
    "            # 只选出每个样本有copd的embedding\n",
    "            select_disease_embeddings_list.append(transformer_output[input_values == 1508].cpu()) # 移动到CPU以释放GPU显存\n",
    "        \n",
    "            # 删除不再需要的变量以释放显存\n",
    "            del transformer_output, input_trait_ids, input_values, target_values, batch_labels, individualtype_labels, src_key_padding_mask\n",
    "            \n",
    "            torch.cuda.empty_cache()\n",
    "    \n",
    "    # 将所有在CPU上的张量重新移动到GPU上\n",
    "    select_disease_embeddings = torch.cat(select_disease_embeddings_list, dim=0).to('cpu')\n",
    "    \n",
    "    \n",
    "    # 提取所有的token和对应的embedding向量\n",
    "    embeddings = select_disease_embeddings.detach().to('cpu').numpy()\n",
    "    \n",
    "    # 使用 leiden 聚类，UMAP进行降维\n",
    "    umap_model = umap.UMAP(n_components=2, random_state=42)  # 降维到2维\n",
    "    embedding_2d = umap_model.fit_transform(embeddings)  # (1000, 2)\n",
    "    # 构建 K-近邻图并使用 Leiden 进行聚类\n",
    "    adata = sc.AnnData(embeddings)\n",
    "    sc.pp.neighbors(adata, n_neighbors=30, use_rep='X')\n",
    "    sc.tl.leiden(adata, resolution=0.15)\n",
    "    \n",
    "    # 获取聚类结果\n",
    "    labels = adata.obs['leiden'].astype(int).values\n",
    "    \n",
    "    \n",
    "    from sklearn.metrics import confusion_matrix, f1_score\n",
    "    f1 = f1_score(traits100_labels, labels, average='weighted')\n",
    "    print(f1)\n",
    "    if f1 == 1:\n",
    "        print('find useless trait=', trait)\n",
    "        useless_traits.append(trait)\n",
    "    else:\n",
    "        important_traits.append(trait)\n",
    "        "
   ]
  },
  {
   "cell_type": "code",
   "execution_count": 407,
   "id": "33a8d1d0-739a-4f8d-a26a-955a6f4461be",
   "metadata": {},
   "outputs": [
    {
     "data": {
      "image/png": "[encoded data removed]",
      "text/plain": [
       "<Figure size 1000x600 with 1 Axes>"
      ]
     },
     "metadata": {},
     "output_type": "display_data"
    }
   ],
   "source": [
    "# Fig2.D 损失曲线\n",
    "import pandas as pd\n",
    "import matplotlib.pyplot as plt\n",
    "import numpy as np\n",
    "\n",
    "# Load the dataset\n",
    "file_path = 'Fig1.D.trait_train_combine.csv'\n",
    "data = pd.read_csv(file_path)\n",
    "\n",
    "# Plotting the loss curve\n",
    "plt.figure(figsize=(10, 6))\n",
    "plt.plot(data['Epoch'], data['Train'], marker='o', linestyle='-', color='blue', label='Train Loss')\n",
    "plt.plot(data['Epoch'], data['Valid'], marker='o', linestyle='-', color='red', label='Validation Loss')\n",
    "\n",
    "# Adding title and labels\n",
    "plt.title('Validation & Train Loss Curve')\n",
    "plt.xlabel('Epoch')\n",
    "plt.ylabel('Loss')\n",
    "plt.legend()\n",
    "\n",
    "# Adding ticks on both axes\n",
    "plt.xticks(np.arange(0, 51, step=5))\n",
    "plt.yticks(np.arange(0.4, 0.6, step=0.025))\n",
    "\n",
    "# Enabling the grid for better visibility\n",
    "plt.grid(False)\n",
    "\n",
    "# Make the ticks more visible by increasing their size and width\n",
    "plt.tick_params(axis='both', which='major', direction='in', length=8, width=2)\n",
    "\n",
    "# Saving the figure\n",
    "plt.savefig('Fig1.D.trait_train_combine.svg')\n",
    "\n",
    "# Display the plot\n",
    "plt.show()\n"
   ]
  },
  {
   "cell_type": "code",
   "execution_count": 52,
   "id": "2f7c7e8f-240d-4d6f-b971-2a65bab8ab5f",
   "metadata": {},
   "outputs": [
    {
     "name": "stdout",
     "output_type": "stream",
     "text": [
      "scGPT - INFO - Resume model from save/dev_UKB-Sep10-00-11/model.pt, the model args will override the config save/dev_UKB-Sep10-00-11/config.json.\n",
      "scGPT - INFO - Loading all model params from save/dev_UKB-Sep10-00-11/model.pt\n"
     ]
    },
    {
     "name": "stderr",
     "output_type": "stream",
     "text": [
      "/data/hongqy/dev/ukbGPT/tutorials/../scgpt/model/model.py:76: UserWarning: flash-attn is not installed, using pytorch transformer instead. Set use_fast_transformer=False to avoid this warning. Installing flash-attn is highly recommended.\n",
      "  warnings.warn(\n"
     ]
    },
    {
     "data": {
      "image/png": "[encoded data removed]",
      "text/plain": [
       "<Figure size 640x480 with 1 Axes>"
      ]
     },
     "metadata": {},
     "output_type": "display_data"
    }
   ],
   "source": [
    "# 不要删20241202 分析COPD， 获取两个大类的样本eid\n",
    "\n",
    "input_trait_ids_train = tokenized_train[\"traits\"].clone()\n",
    "input_values_train = tokenized_train[\"values\"].clone()\n",
    "target_values_train = tokenized_train[\"values\"].clone()\n",
    "tensor_batch_labels_train = torch.zeros(input_trait_ids_train.shape[0])\n",
    "tensor_individualtype_labels_train = individualtypes_labels\n",
    "\n",
    "\n",
    "train_data_pt = {\n",
    "    \"trait_ids\": input_trait_ids_train,\n",
    "    \"values\": input_values_train,\n",
    "    \"target_values\": target_values_train,\n",
    "    \"batch_labels\": tensor_batch_labels_train,\n",
    "    \"individualtype_labels\": tensor_individualtype_labels_train,\n",
    "}\n",
    "\n",
    "# dataset\n",
    "class SeqDataset(Dataset):\n",
    "    def __init__(self, data: Dict[str, torch.Tensor]):\n",
    "        self.data = data\n",
    "\n",
    "    def __len__(self):\n",
    "        return self.data[\"trait_ids\"].shape[0]\n",
    "\n",
    "    def __getitem__(self, idx):\n",
    "        return {k: v[idx] for k, v in self.data.items()}\n",
    "\n",
    "\n",
    "num_workers = len(os.sched_getaffinity(0))\n",
    "\n",
    "dataset = SeqDataset(train_data_pt)\n",
    "\n",
    "train_loader = DataLoader(\n",
    "    dataset=dataset,\n",
    "    batch_size=100,\n",
    "    shuffle=False,  # 20240905改成False避免后续提取eid混乱\n",
    "    drop_last=False,\n",
    "    num_workers=num_workers,\n",
    "    pin_memory=True,\n",
    ")\n",
    "\n",
    "\n",
    "\n",
    "# model\n",
    "with open(model_config_file, \"r\") as f:\n",
    "    model_configs = json.load(f)\n",
    "logger.info(\n",
    "    f\"Resume model from {model_file}, the model args will override the \"\n",
    "    f\"config {model_config_file}.\"\n",
    ")\n",
    "embsize = model_configs[\"layer_size\"]\n",
    "nhead = model_configs[\"nhead\"]\n",
    "d_hid = model_configs[\"layer_size\"]\n",
    "nlayers = model_configs[\"nlayers\"]\n",
    "\n",
    "\n",
    "dropout = model_configs[\"dropout\"]\n",
    "mask_value = vocab[mask_token]\n",
    "pad_value = vocab[pad_token]\n",
    "cls_value = vocab[cls_token]\n",
    "MVC = False\n",
    "DAB = False  # Domain adaptation by reverse backpropagation, set to 2 for separate optimizer\n",
    "INPUT_BATCH_LABELS = False  # TODO: have these help MLM and MVC, while not to classifier\n",
    "\n",
    "num_batch_types = 1\n",
    "DSBN = False,  # Domain-spec batchnorm\n",
    "input_emb_style = \"combine\"  # \"category\" or \"continuous\" or \"scaling\" or \"combine\"\n",
    "n_input_bins = None\n",
    "individual_emb_style = \"avg-pool\"  # \"avg-pool\" or \"w-pool\" or \"cls\"\n",
    "mvc_decoder_style = \"inner product\"\n",
    "\n",
    "ecs_threshold = model_configs[\"ecs_thres\"]\n",
    "explicit_zero_prob = True\n",
    "fast_transformer = True\n",
    "fast_transformer_backend = \"flash\"\n",
    "pre_norm=False\n",
    "CLS = False\n",
    "\n",
    "ntokens = len(set(value2trait_dict.values()))  # size of vocabulary\n",
    "model = TransformerModel(\n",
    "    ntokens,\n",
    "    embsize,\n",
    "    nhead,\n",
    "    d_hid,\n",
    "    nlayers,\n",
    "    nlayers_cls=3,\n",
    "    n_cls=num_types if CLS else 1,\n",
    "    vocab=vocab,\n",
    "    dropout=dropout,\n",
    "    pad_token=pad_token,\n",
    "    do_mvc=MVC,\n",
    "    do_dab=DAB,\n",
    "    use_batch_labels=INPUT_BATCH_LABELS,\n",
    "    num_batch_labels=num_batch_types,\n",
    "    domain_spec_batchnorm=DSBN,\n",
    "    input_emb_style=input_emb_style,\n",
    "    n_input_bins=n_input_bins,\n",
    "    individual_emb_style=individual_emb_style,\n",
    "    mvc_decoder_style=mvc_decoder_style,\n",
    "    ecs_threshold=ecs_threshold,\n",
    "    explicit_zero_prob=explicit_zero_prob,\n",
    "    use_fast_transformer=fast_transformer,\n",
    "    fast_transformer_backend=fast_transformer_backend,\n",
    "    pre_norm=pre_norm,\n",
    ")\n",
    "\n",
    "# 加载模型参数\n",
    "state_dict = torch.load(model_file)\n",
    "\n",
    "# 去除所有键的 module. 前缀\n",
    "new_state_dict = {}\n",
    "for key, value in state_dict.items():\n",
    "    if key.startswith('module.'):\n",
    "        new_key = key[len('module.'):]  # 去除 module. 前缀\n",
    "    else:\n",
    "        new_key = key\n",
    "    new_state_dict[new_key] = value\n",
    "\n",
    "# 使用新的 state_dict 加载模型\n",
    "model.load_state_dict(new_state_dict)\n",
    "\n",
    "logger.info(f\"Loading all model params from {model_file}\")\n",
    "model.eval()\n",
    "device = 'cuda:0'\n",
    "model.to(device)\n",
    "select_disease_embeddings_list = []\n",
    "select_eid_list = []\n",
    "for batch, batch_data in enumerate(train_loader):\n",
    "    input_trait_ids = batch_data[\"trait_ids\"].to(device)\n",
    "    input_values = batch_data[\"values\"].to(device)\n",
    "    target_values = batch_data[\"target_values\"].to(device)\n",
    "    batch_labels = batch_data[\"batch_labels\"]\n",
    "    individualtype_labels = batch_data[\"individualtype_labels\"]\n",
    "    src_key_padding_mask = input_trait_ids.eq(vocab[pad_token])\n",
    "    with torch.no_grad():\n",
    "        transformer_output = model._encode(\n",
    "            input_trait_ids, input_values, src_key_padding_mask, batch_labels\n",
    "        )\n",
    "        \n",
    "        # 只选出每个样本有copd的embedding\n",
    "        select_disease_embeddings_list.append(transformer_output[input_values == 1508].cpu()) # 移动到CPU以释放GPU显存\n",
    "        select_eid_list.append(individualtype_labels)\n",
    "        # 删除不再需要的变量以释放显存\n",
    "        del transformer_output, input_trait_ids, input_values, target_values, batch_labels, individualtype_labels, src_key_padding_mask\n",
    "        \n",
    "        torch.cuda.empty_cache()\n",
    "\n",
    "# 将所有在CPU上的张量重新移动到GPU上\n",
    "select_disease_embeddings = torch.cat(select_disease_embeddings_list, dim=0).to('cpu')\n",
    "select_eids = np.concatenate(select_eid_list)\n",
    "\n",
    "# 提取所有的token和对应的embedding向量\n",
    "embeddings = select_disease_embeddings.detach().to('cpu').numpy()\n",
    "\n",
    "\n",
    "# 构建 K-近邻图并使用 Leiden 进行聚类\n",
    "adata = sc.AnnData(embeddings)\n",
    "sc.pp.neighbors(adata, n_neighbors=30, use_rep='X')\n",
    "sc.tl.leiden(adata, resolution=0.15)\n",
    "\n",
    "# 获取聚类结果\n",
    "labels = adata.obs['leiden'].astype(int).values\n",
    "labels = np.where(labels == 0, 'C2', 'C1')\n",
    "# 运行 UMAP 降维（也可以用 t-SNE）\n",
    "sc.tl.umap(adata)\n",
    "\n",
    "# 绘制 UMAP 图，标注 Leiden 聚类结果\n",
    "sc.pl.umap(adata, color='leiden', title=\"Leiden Clustering\", legend_loc='on data', size=50)\n",
    "# 保存聚类的类别和EID的对应关系\n",
    "pd.DataFrame(zip(select_eids, labels), columns=['eid', 'cluster']).to_csv('APP1.Fig2.E.copd_death.20241202.csv')\n"
   ]
  },
  {
   "cell_type": "code",
   "execution_count": 92,
   "id": "d6425f5c-7da4-46bf-8de7-2971d8039fc0",
   "metadata": {},
   "outputs": [
    {
     "name": "stdout",
     "output_type": "stream",
     "text": [
      "频率差异最大的值：\n",
      "         greater_than_5_freq  less_equal_5_freq  total_ukb_counts  freq_diff\n",
      "44287.0            2100506.0          1190723.0               0.0   909783.0\n",
      "791.0                    0.0              613.0          171829.0      613.0\n",
      "768.0                    1.0              531.0          156072.0      530.0\n",
      "814.0                    0.0              508.0          148412.0      508.0\n",
      "42221.0                  1.0              506.0          120993.0      505.0\n",
      "43034.0                494.0                1.0          168462.0      493.0\n",
      "43067.0                494.0                1.0          168460.0      493.0\n",
      "42990.0                494.0                1.0          168461.0      493.0\n",
      "42979.0                494.0                1.0          168459.0      493.0\n",
      "42957.0                494.0                1.0          168461.0      493.0\n",
      "   token_id  greater_than_5_freq  less_equal_5_freq  total_ukb_counts  \\\n",
      "0     791.0                  0.0              613.0          171829.0   \n",
      "1     768.0                  1.0              531.0          156072.0   \n",
      "2     814.0                  0.0              508.0          148412.0   \n",
      "3   42221.0                  1.0              506.0          120993.0   \n",
      "4   43034.0                494.0                1.0          168462.0   \n",
      "\n",
      "   freq_diff  field_id value  \\\n",
      "0      613.0    4792.0     0   \n",
      "1      530.0    4642.0     0   \n",
      "2      508.0    4836.0     0   \n",
      "3      505.0    4674.0     4   \n",
      "4      493.0   30114.0     1   \n",
      "\n",
      "                                               token  \\\n",
      "0                            \"Cochlear implant\"_\"No\"   \n",
      "1                 \"Ever manic/hyper for 2 days\"_\"No\"   \n",
      "2               \"Loud music exposure frequency\"_\"No\"   \n",
      "3                   \"Private healthcare\"_\"No, never\"   \n",
      "4  \"Platelet distribution width acquisition route...   \n",
      "\n",
      "                           trait  \\\n",
      "0  c1003_t4792_i2_v21_s1_e100352   \n",
      "1  c1018_t4642_i2_v21_s1_e100349   \n",
      "2  c1003_t4836_i2_v21_s1_e100637   \n",
      "3   c701_t4674_i2_v21_s1_e100511   \n",
      "4    c717_t30114_i2_v21_s1_e2226   \n",
      "\n",
      "                                           title  category_id  \\\n",
      "0                               Cochlear implant       1003.0   \n",
      "1                    Ever manic/hyper for 2 days       1018.0   \n",
      "2                  Loud music exposure frequency       1003.0   \n",
      "3                             Private healthcare        701.0   \n",
      "4  Platelet distribution width acquisition route        717.0   \n",
      "\n",
      "                      category_name  chi2_token  p_value_token  \\\n",
      "0  Self-reported medical conditions         NaN   1.000000e+00   \n",
      "1                     Mental health         NaN   1.000000e+00   \n",
      "2  Self-reported medical conditions         NaN   1.000000e+00   \n",
      "3                Socio-demographics         NaN   1.000000e+00   \n",
      "4                        Biomarkers  409.675566   4.312683e-91   \n",
      "\n",
      "   p_value_token_c1  p_value_token_c2  odds_ratio_token    sum  \n",
      "0      1.000000e+00      1.000000e+00          0.757590  613.0  \n",
      "1      1.000000e+00      1.252105e-03          1.484895  532.0  \n",
      "2      1.000000e+00      1.702290e-02          1.294035  508.0  \n",
      "3      1.000000e+00      5.657353e-12          0.504075  507.0  \n",
      "4      2.874147e-20      1.190754e-69        561.803922  495.0  \n",
      "2025-02-01 11:16:09.651386\n"
     ]
    },
    {
     "name": "stderr",
     "output_type": "stream",
     "text": [
      "/tmp/ipykernel_294904/2941715171.py:143: FutureWarning: The behavior of DataFrame concatenation with empty or all-NA entries is deprecated. In a future version, this will no longer exclude empty or all-NA columns when determining the result dtypes. To retain the old behavior, exclude the relevant entries before the concat operation.\n",
      "  chi2_results_token = merged_df.groupby('trait', group_keys=False)[['trait', 'token_id', 'greater_than_5_freq', 'less_equal_5_freq', 'total_ukb_counts']].apply(calculate_chi2_token)\n"
     ]
    }
   ],
   "source": [
    "# 20250131 勿删。 用卡方检验分别计算categories， trait， token的pvalue。 算两个分类和所有类别的p值\n",
    "import pandas as pd\n",
    "from scipy.stats import chi2_contingency\n",
    "from scipy.stats import fisher_exact\n",
    "\n",
    "# 拼接UMAP 2d embedding和values， 还有eid\n",
    "embedding_2d_df = pd.DataFrame(embedding_2d, index=range(embedding_2d.shape[0]), columns=['umap1', 'umap2'])\n",
    "value_tensor_list = []\n",
    "for batch_data in train_loader:\n",
    "    # 直接收集每个批次的张量\n",
    "    value_tensor_list.append(batch_data[\"values\"].detach().to('cpu'))\n",
    "\n",
    "# 将所有张量沿第一个维度拼接，然后转换为 DataFrame\n",
    "values_df = pd.DataFrame(torch.cat(value_tensor_list).numpy())\n",
    "\n",
    "# 直接按列拼接 embedding_2d_df 和 values_df\n",
    "embedding_2d_values_df = pd.concat([embedding_2d_df, values_df], axis=1)\n",
    "embedding_2d_values_df.index = data_df_copd.index\n",
    "embedding_2d_values_df['cluster'] = labels\n",
    "\n",
    "# 将 DataFrame 按 umap1 分为两个 DataFrame\n",
    "df_greater_than_5 = embedding_2d_values_df[embedding_2d_values_df['cluster'] == 'C2']\n",
    "df_less_equal_5 = embedding_2d_values_df[embedding_2d_values_df['cluster'] == 'C1']\n",
    "\n",
    "# 计算行数比例\n",
    "#scale_factor = len(df_less_equal_5) / len(df_greater_than_5)\n",
    "\n",
    "# 将 umap1 和 umap2 列去除，因为不需要比较这些列\n",
    "df_greater_than_5_values = df_greater_than_5.drop(columns=['umap1', 'umap2', 'cluster'])\n",
    "df_less_equal_5_values = df_less_equal_5.drop(columns=['umap1', 'umap2', 'cluster'])\n",
    "\n",
    "# 统计每个具体值的频率，并按比例缩放较多行数的频率\n",
    "greater_value_counts = df_greater_than_5_values.stack().value_counts()\n",
    "less_value_counts = df_less_equal_5_values.stack().value_counts()\n",
    "total_ukb_counts = data_df.stack().value_counts()\n",
    "# 创建一个包含所有值的 DataFrame，并将频率为 NaN 的值填充为 0\n",
    "all_values = pd.DataFrame({\n",
    "    'greater_than_5_freq': greater_value_counts,\n",
    "    'less_equal_5_freq': less_value_counts,\n",
    "    'total_ukb_counts': total_ukb_counts,\n",
    "}).fillna(0)\n",
    "\n",
    "\n",
    "# 对 greater_than_5_freq 和 less_equal_5_freq 进行T检验\n",
    "#t_stat, p_value = ttest_ind(all_values['greater_than_5_freq'], all_values['less_equal_5_freq'], equal_var=False)\n",
    "\n",
    "\n",
    "# 计算两个 DataFrame 中每个值的频率差异\n",
    "all_values['freq_diff'] = (all_values['greater_than_5_freq'] - all_values['less_equal_5_freq']).abs()\n",
    "\n",
    "\n",
    "# 输出 p 值\n",
    "#print(f\"T检验的 p 值: {p_value}\")\n",
    "\n",
    "# 按照频率差异的绝对值排序\n",
    "all_values_sorted = all_values.sort_values(by='freq_diff', ascending=False)\n",
    "\n",
    "print(\"频率差异最大的值：\")\n",
    "print(all_values_sorted.head(10))  # 打印差异最大的前10个值\n",
    "\n",
    "\n",
    "\n",
    "\n",
    "# 划分categories， 并计算每个trait的pvalue\n",
    "all_values_sorted_rename = all_values_sorted.reset_index().rename(columns={'index': 'token_id'})\n",
    "\n",
    "# 确保 traits_df 中只包含需要的列\n",
    "traits_subset = traits_df[['field_id', 'value', 'token_id', 'token', 'trait', 'title', 'category_id', 'category_name']]\n",
    "\n",
    "# 使用 merge 方法进行左连接\n",
    "merged_df = pd.merge(all_values_sorted_rename, traits_subset, on='token_id', how='left')\n",
    "\n",
    "# 将 NaN 值替换为空字符串\n",
    "#merged_df['token'] = merged_df['token'].fillna('')\n",
    "merged_df.dropna(inplace=True)\n",
    "\n",
    "\n",
    "\n",
    "# 使用 Fisher 精确检验替代卡方检验\n",
    "def calculate_chi2_token(group):\n",
    "    chi2_values = []\n",
    "    p_values = []\n",
    "    p1_values = []\n",
    "    p2_values = []\n",
    "\n",
    "    odds_ratios = []\n",
    "    \n",
    "    \n",
    "    for index, row in group.iterrows():\n",
    "        c1_true = row['greater_than_5_freq']\n",
    "        c1_false = group['greater_than_5_freq'].sum() - c1_true\n",
    "    \n",
    "        c2_true = row['less_equal_5_freq']\n",
    "        c2_false = group['less_equal_5_freq'].sum() - c2_true\n",
    "\n",
    "        total_ukb_true =  row['total_ukb_counts']\n",
    "        total_ukb_false = group['total_ukb_counts'].sum() - total_ukb_true\n",
    "        \n",
    "        # 创建一个2x2的列联表\n",
    "        contingency_table = [\n",
    "            [c1_true, c2_true],\n",
    "            [c1_false, c2_false]\n",
    "        ]\n",
    "        contingency_table1 = [\n",
    "            [c1_true, total_ukb_true],\n",
    "            [c1_false, total_ukb_false]\n",
    "        ]\n",
    "        contingency_table2 = [\n",
    "            [total_ukb_true, c2_true],\n",
    "            [total_ukb_false, c2_false]\n",
    "        ]\n",
    "        \n",
    "        # 检查期望频数\n",
    "        if (np.array(contingency_table) == 0).any():\n",
    "            expected = 0\n",
    "        else:\n",
    "            chi2, p_value, _, expected = chi2_contingency(contingency_table)\n",
    "            _, p_value_c1, _, _ = chi2_contingency(contingency_table1)\n",
    "            _, p_value_c2, _, _ = chi2_contingency(contingency_table2)\n",
    "        # 如果期望频数中有任何一个单元格 ≤ 5，则使用 Fisher 精确检验\n",
    "        if (np.array(expected) <= 5).any():\n",
    "            odds_ratio, p_value = fisher_exact(contingency_table)\n",
    "            odds_ratio, p_value_c1 = fisher_exact(contingency_table1)\n",
    "            odds_ratio, p_value_c2 = fisher_exact(contingency_table2)\n",
    "            chi2 = None  # Fisher 精确检验不返回 chi2 值\n",
    "        else:\n",
    "            odds_ratio = (c1_true * c2_false) / (c1_false * c2_true)  # 计算odds ratio\n",
    "\n",
    "        \n",
    "        chi2_values.append(chi2)\n",
    "        p_values.append(p_value)\n",
    "        p1_values.append(p_value_c1)\n",
    "        p2_values.append(p_value_c2)\n",
    "        odds_ratios.append(odds_ratio)\n",
    "    group['chi2_token'] = chi2_values\n",
    "    group['p_value_token'] = p_values\n",
    "    group['p_value_token_c1'] = p1_values\n",
    "    group['p_value_token_c2'] = p2_values\n",
    "    group['odds_ratio_token'] = odds_ratios\n",
    "    return group[['token_id', 'chi2_token', 'p_value_token','p_value_token_c1', 'p_value_token_c2', 'odds_ratio_token']]\n",
    "\n",
    "# 根据 token 分组并计算 chi2, p_value 和 odds_ratio\n",
    "chi2_results_token = merged_df.groupby('trait', group_keys=False)[['trait', 'token_id', 'greater_than_5_freq', 'less_equal_5_freq', 'total_ukb_counts']].apply(calculate_chi2_token)\n",
    "merged_df = merged_df.merge(chi2_results_token, on='token_id', how='left')\n",
    "\n",
    "merged_df['sum'] = merged_df['greater_than_5_freq'] + merged_df['less_equal_5_freq']\n",
    "# 查看结果\n",
    "print(merged_df.head())\n",
    "merged_df.to_csv('app1.merged_df_chi2_odds_ratio.20250131.csv')\n",
    "\n",
    "\n",
    "\n",
    "import datetime\n",
    "\n",
    "# 获取当前时间\n",
    "current_time = datetime.datetime.now()\n",
    "\n",
    "# 打印当前时间\n",
    "print(current_time)"
   ]
  },
  {
   "cell_type": "code",
   "execution_count": 95,
   "id": "dfff05b0-2e71-4a6d-8e8f-97a26c7c86c7",
   "metadata": {},
   "outputs": [
    {
     "data": {
      "image/png": "[encoded data removed]",
      "text/plain": [
       "<Figure size 1200x600 with 2 Axes>"
      ]
     },
     "metadata": {},
     "output_type": "display_data"
    },
    {
     "name": "stdout",
     "output_type": "stream",
     "text": [
      "2025-02-01 17:26:16.070512\n"
     ]
    }
   ],
   "source": [
    "import pandas as pd\n",
    "import numpy as np\n",
    "import matplotlib.pyplot as plt\n",
    "import seaborn as sns\n",
    "from matplotlib import cm\n",
    "\n",
    "\n",
    "# Load the provided data file\n",
    "file_path = 'APP1.Fig2.D.hotplot.z_score_data.pvalue.csv'\n",
    "df = pd.read_csv(file_path)\n",
    "\n",
    "# Display the first few rows of the DataFrame to understand its structure\n",
    "df.head()\n",
    "# Extract the columns related to healthy and unhealthy lifestyles\n",
    "lifestyle_data = df[['Polarized basophil COPD', 'Middle basophil COPD']]\n",
    "\n",
    "# Flatten the data to calculate the overall mean and standard deviation for z-score calculation\n",
    "flattened_data = lifestyle_data.values.flatten()\n",
    "\n",
    "# Calculate the mean and standard deviation of the flattened data\n",
    "mean = np.mean(flattened_data)\n",
    "std_dev = np.std(flattened_data)\n",
    "\n",
    "# Calculate z-scores for the flattened data\n",
    "z_scores = (flattened_data - mean) / std_dev\n",
    "\n",
    "# Reshape the z-scores back to the original shape of the lifestyle_data\n",
    "z_scores_reshaped = z_scores.reshape(lifestyle_data.shape)\n",
    "\n",
    "# Replace the original data with the z-scores\n",
    "z_score_df = pd.DataFrame(z_scores_reshaped, columns=['healthy lifestyle', 'unhealthy lifestyle'])\n",
    "\n",
    "# Add the conditions column back to the DataFrame\n",
    "z_score_df.insert(0, 'conditions', df['conditions'])\n",
    "\n",
    "# Plot the heatmap of the z-scores\n",
    "plt.figure(figsize=(12, 6))\n",
    "# Use the reversed colormap by adding \"_r\"\n",
    "sns.heatmap(z_score_df.set_index('conditions').T, annot=False, cmap=cm.plasma_r, fmt=\".2f\", cbar=True)\n",
    "plt.tight_layout()\n",
    "plt.xlabel('')\n",
    "plt.savefig('APP1.Panel_D.COPD_subtypes_features.pvalue.svg', dpi=300, bbox_inches='tight')\n",
    "plt.show()\n",
    "\n",
    "\n",
    "\n",
    "import datetime\n",
    "\n",
    "# 获取当前时间\n",
    "current_time = datetime.datetime.now()\n",
    "\n",
    "# 打印当前时间\n",
    "print(current_time)\n",
    "\n"
   ]
  }
 ],
 "metadata": {
  "kernelspec": {
   "display_name": "Python 3 (ipykernel)",
   "language": "python",
   "name": "python3"
  },
  "language_info": {
   "codemirror_mode": {
    "name": "ipython",
    "version": 3
   },
   "file_extension": ".py",
   "mimetype": "text/x-python",
   "name": "python",
   "nbconvert_exporter": "python",
   "pygments_lexer": "ipython3",
   "version": "3.10.14"
  }
 },
 "nbformat": 4,
 "nbformat_minor": 5
}
